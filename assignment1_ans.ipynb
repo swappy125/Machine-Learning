{
 "cells": [
  {
   "cell_type": "code",
   "execution_count": 2,
   "id": "f7db8394",
   "metadata": {},
   "outputs": [],
   "source": [
    "import json\n",
    "import pandas as pd\n",
    "import numpy as np\n",
    "import nltk\n",
    "import re"
   ]
  },
  {
   "cell_type": "markdown",
   "id": "81d0e0b7",
   "metadata": {},
   "source": [
    "# Loading the Data"
   ]
  },
  {
   "cell_type": "code",
   "execution_count": 3,
   "id": "4e71b832",
   "metadata": {},
   "outputs": [],
   "source": [
    "with open(\"Client_data.json\") as f:\n",
    "    data = json.load(f)"
   ]
  },
  {
   "cell_type": "code",
   "execution_count": 4,
   "id": "77694412",
   "metadata": {},
   "outputs": [
    {
     "data": {
      "text/html": [
       "<div>\n",
       "<style scoped>\n",
       "    .dataframe tbody tr th:only-of-type {\n",
       "        vertical-align: middle;\n",
       "    }\n",
       "\n",
       "    .dataframe tbody tr th {\n",
       "        vertical-align: top;\n",
       "    }\n",
       "\n",
       "    .dataframe thead th {\n",
       "        text-align: right;\n",
       "    }\n",
       "</style>\n",
       "<table border=\"1\" class=\"dataframe\">\n",
       "  <thead>\n",
       "    <tr style=\"text-align: right;\">\n",
       "      <th></th>\n",
       "      <th>_index</th>\n",
       "      <th>_type</th>\n",
       "      <th>_id</th>\n",
       "      <th>_score</th>\n",
       "      <th>_source</th>\n",
       "    </tr>\n",
       "  </thead>\n",
       "  <tbody>\n",
       "    <tr>\n",
       "      <th>0</th>\n",
       "      <td>complaint-public-v2</td>\n",
       "      <td>complaint</td>\n",
       "      <td>3211475</td>\n",
       "      <td>0.0</td>\n",
       "      <td>{'tags': None, 'zip_code': '90301', 'complaint...</td>\n",
       "    </tr>\n",
       "    <tr>\n",
       "      <th>1</th>\n",
       "      <td>complaint-public-v2</td>\n",
       "      <td>complaint</td>\n",
       "      <td>3229299</td>\n",
       "      <td>0.0</td>\n",
       "      <td>{'tags': 'Servicemember', 'zip_code': '319XX',...</td>\n",
       "    </tr>\n",
       "    <tr>\n",
       "      <th>2</th>\n",
       "      <td>complaint-public-v2</td>\n",
       "      <td>complaint</td>\n",
       "      <td>3199379</td>\n",
       "      <td>0.0</td>\n",
       "      <td>{'tags': None, 'zip_code': '77069', 'complaint...</td>\n",
       "    </tr>\n",
       "    <tr>\n",
       "      <th>3</th>\n",
       "      <td>complaint-public-v2</td>\n",
       "      <td>complaint</td>\n",
       "      <td>2673060</td>\n",
       "      <td>0.0</td>\n",
       "      <td>{'tags': None, 'zip_code': '48066', 'complaint...</td>\n",
       "    </tr>\n",
       "    <tr>\n",
       "      <th>4</th>\n",
       "      <td>complaint-public-v2</td>\n",
       "      <td>complaint</td>\n",
       "      <td>3203545</td>\n",
       "      <td>0.0</td>\n",
       "      <td>{'tags': None, 'zip_code': '10473', 'complaint...</td>\n",
       "    </tr>\n",
       "  </tbody>\n",
       "</table>\n",
       "</div>"
      ],
      "text/plain": [
       "                _index      _type      _id  _score  \\\n",
       "0  complaint-public-v2  complaint  3211475     0.0   \n",
       "1  complaint-public-v2  complaint  3229299     0.0   \n",
       "2  complaint-public-v2  complaint  3199379     0.0   \n",
       "3  complaint-public-v2  complaint  2673060     0.0   \n",
       "4  complaint-public-v2  complaint  3203545     0.0   \n",
       "\n",
       "                                             _source  \n",
       "0  {'tags': None, 'zip_code': '90301', 'complaint...  \n",
       "1  {'tags': 'Servicemember', 'zip_code': '319XX',...  \n",
       "2  {'tags': None, 'zip_code': '77069', 'complaint...  \n",
       "3  {'tags': None, 'zip_code': '48066', 'complaint...  \n",
       "4  {'tags': None, 'zip_code': '10473', 'complaint...  "
      ]
     },
     "execution_count": 4,
     "metadata": {},
     "output_type": "execute_result"
    }
   ],
   "source": [
    "df = pd.DataFrame(data)\n",
    "df.head()"
   ]
  },
  {
   "cell_type": "code",
   "execution_count": 5,
   "id": "a54f6e5a",
   "metadata": {},
   "outputs": [
    {
     "data": {
      "text/plain": [
       "list"
      ]
     },
     "execution_count": 5,
     "metadata": {},
     "output_type": "execute_result"
    }
   ],
   "source": [
    "type(data)"
   ]
  },
  {
   "cell_type": "code",
   "execution_count": 6,
   "id": "cdf83bb4",
   "metadata": {},
   "outputs": [
    {
     "data": {
      "text/plain": [
       "[{'_index': 'complaint-public-v2',\n",
       "  '_type': 'complaint',\n",
       "  '_id': '3211475',\n",
       "  '_score': 0.0,\n",
       "  '_source': {'tags': None,\n",
       "   'zip_code': '90301',\n",
       "   'complaint_id': '3211475',\n",
       "   'issue': 'Attempts to collect debt not owed',\n",
       "   'date_received': '2019-04-13T12:00:00-05:00',\n",
       "   'state': 'CA',\n",
       "   'consumer_disputed': 'N/A',\n",
       "   'product': 'Debt collection',\n",
       "   'company_response': 'Closed with explanation',\n",
       "   'company': 'JPMORGAN CHASE & CO.',\n",
       "   'submitted_via': 'Web',\n",
       "   'date_sent_to_company': '2019-04-13T12:00:00-05:00',\n",
       "   'company_public_response': None,\n",
       "   'sub_product': 'Credit card debt',\n",
       "   'timely': 'Yes',\n",
       "   'complaint_what_happened': '',\n",
       "   'sub_issue': 'Debt is not yours',\n",
       "   'consumer_consent_provided': 'Consent not provided'}},\n",
       " {'_index': 'complaint-public-v2',\n",
       "  '_type': 'complaint',\n",
       "  '_id': '3229299',\n",
       "  '_score': 0.0,\n",
       "  '_source': {'tags': 'Servicemember',\n",
       "   'zip_code': '319XX',\n",
       "   'complaint_id': '3229299',\n",
       "   'issue': 'Written notification about debt',\n",
       "   'date_received': '2019-05-01T12:00:00-05:00',\n",
       "   'state': 'GA',\n",
       "   'consumer_disputed': 'N/A',\n",
       "   'product': 'Debt collection',\n",
       "   'company_response': 'Closed with explanation',\n",
       "   'company': 'JPMORGAN CHASE & CO.',\n",
       "   'submitted_via': 'Web',\n",
       "   'date_sent_to_company': '2019-05-01T12:00:00-05:00',\n",
       "   'company_public_response': None,\n",
       "   'sub_product': 'Credit card debt',\n",
       "   'timely': 'Yes',\n",
       "   'complaint_what_happened': 'Good morning my name is XXXX XXXX and I appreciate it if you could help me put a stop to Chase Bank cardmember services. \\nIn 2018 I wrote to Chase asking for debt verification and what they sent me a statement which is not acceptable. I am asking the bank to validate the debt. Instead I been receiving mail every month from them attempting to collect a debt. \\nI have a right to know this information as a consumer. \\n\\nChase account # XXXX XXXX XXXX XXXX Thanks in advance for your help.',\n",
       "   'sub_issue': \"Didn't receive enough information to verify debt\",\n",
       "   'consumer_consent_provided': 'Consent provided'}},\n",
       " {'_index': 'complaint-public-v2',\n",
       "  '_type': 'complaint',\n",
       "  '_id': '3199379',\n",
       "  '_score': 0.0,\n",
       "  '_source': {'tags': None,\n",
       "   'zip_code': '77069',\n",
       "   'complaint_id': '3199379',\n",
       "   'issue': 'Other features, terms, or problems',\n",
       "   'date_received': '2019-04-02T12:00:00-05:00',\n",
       "   'state': 'TX',\n",
       "   'consumer_disputed': 'N/A',\n",
       "   'product': 'Credit card or prepaid card',\n",
       "   'company_response': 'Closed with explanation',\n",
       "   'company': 'JPMORGAN CHASE & CO.',\n",
       "   'submitted_via': 'Web',\n",
       "   'date_sent_to_company': '2019-04-02T12:00:00-05:00',\n",
       "   'company_public_response': None,\n",
       "   'sub_product': 'General-purpose credit card or charge card',\n",
       "   'timely': 'Yes',\n",
       "   'complaint_what_happened': 'I upgraded my XXXX XXXX card in XX/XX/2018 and was told by the agent who did the upgrade my anniversary date would not change. It turned the agent was giving me the wrong information in order to upgrade the account. XXXX   changed my anniversary date from XX/XX/XXXX to XX/XX/XXXX without my consent! XXXX has the recording of the agent who was misled me.',\n",
       "   'sub_issue': 'Problem with rewards from credit card',\n",
       "   'consumer_consent_provided': 'Consent provided'}},\n",
       " {'_index': 'complaint-public-v2',\n",
       "  '_type': 'complaint',\n",
       "  '_id': '2673060',\n",
       "  '_score': 0.0,\n",
       "  '_source': {'tags': None,\n",
       "   'zip_code': '48066',\n",
       "   'complaint_id': '2673060',\n",
       "   'issue': 'Trouble during payment process',\n",
       "   'date_received': '2017-09-13T12:00:00-05:00',\n",
       "   'state': 'MI',\n",
       "   'consumer_disputed': 'N/A',\n",
       "   'product': 'Mortgage',\n",
       "   'company_response': 'Closed with explanation',\n",
       "   'company': 'JPMORGAN CHASE & CO.',\n",
       "   'submitted_via': 'Web',\n",
       "   'date_sent_to_company': '2017-09-14T12:00:00-05:00',\n",
       "   'company_public_response': None,\n",
       "   'sub_product': 'Conventional home mortgage',\n",
       "   'timely': 'Yes',\n",
       "   'complaint_what_happened': '',\n",
       "   'sub_issue': None,\n",
       "   'consumer_consent_provided': 'Consent not provided'}},\n",
       " {'_index': 'complaint-public-v2',\n",
       "  '_type': 'complaint',\n",
       "  '_id': '3203545',\n",
       "  '_score': 0.0,\n",
       "  '_source': {'tags': None,\n",
       "   'zip_code': '10473',\n",
       "   'complaint_id': '3203545',\n",
       "   'issue': 'Fees or interest',\n",
       "   'date_received': '2019-04-05T12:00:00-05:00',\n",
       "   'state': 'NY',\n",
       "   'consumer_disputed': 'N/A',\n",
       "   'product': 'Credit card or prepaid card',\n",
       "   'company_response': 'Closed with explanation',\n",
       "   'company': 'JPMORGAN CHASE & CO.',\n",
       "   'submitted_via': 'Referral',\n",
       "   'date_sent_to_company': '2019-04-05T12:00:00-05:00',\n",
       "   'company_public_response': None,\n",
       "   'sub_product': 'General-purpose credit card or charge card',\n",
       "   'timely': 'Yes',\n",
       "   'complaint_what_happened': '',\n",
       "   'sub_issue': 'Charged too much interest',\n",
       "   'consumer_consent_provided': 'N/A'}}]"
      ]
     },
     "execution_count": 6,
     "metadata": {},
     "output_type": "execute_result"
    }
   ],
   "source": [
    "data[0:5]"
   ]
  },
  {
   "cell_type": "markdown",
   "id": "ab2903ac",
   "metadata": {},
   "source": [
    "# Data is in Json format, loading it with json_normalize."
   ]
  },
  {
   "cell_type": "code",
   "execution_count": 6,
   "id": "5c41f70f",
   "metadata": {},
   "outputs": [
    {
     "data": {
      "text/html": [
       "<div>\n",
       "<style scoped>\n",
       "    .dataframe tbody tr th:only-of-type {\n",
       "        vertical-align: middle;\n",
       "    }\n",
       "\n",
       "    .dataframe tbody tr th {\n",
       "        vertical-align: top;\n",
       "    }\n",
       "\n",
       "    .dataframe thead th {\n",
       "        text-align: right;\n",
       "    }\n",
       "</style>\n",
       "<table border=\"1\" class=\"dataframe\">\n",
       "  <thead>\n",
       "    <tr style=\"text-align: right;\">\n",
       "      <th></th>\n",
       "      <th>_index</th>\n",
       "      <th>_type</th>\n",
       "      <th>_id</th>\n",
       "      <th>_score</th>\n",
       "      <th>_source.tags</th>\n",
       "      <th>_source.zip_code</th>\n",
       "      <th>_source.complaint_id</th>\n",
       "      <th>_source.issue</th>\n",
       "      <th>_source.date_received</th>\n",
       "      <th>_source.state</th>\n",
       "      <th>...</th>\n",
       "      <th>_source.company_response</th>\n",
       "      <th>_source.company</th>\n",
       "      <th>_source.submitted_via</th>\n",
       "      <th>_source.date_sent_to_company</th>\n",
       "      <th>_source.company_public_response</th>\n",
       "      <th>_source.sub_product</th>\n",
       "      <th>_source.timely</th>\n",
       "      <th>_source.complaint_what_happened</th>\n",
       "      <th>_source.sub_issue</th>\n",
       "      <th>_source.consumer_consent_provided</th>\n",
       "    </tr>\n",
       "  </thead>\n",
       "  <tbody>\n",
       "    <tr>\n",
       "      <th>0</th>\n",
       "      <td>complaint-public-v2</td>\n",
       "      <td>complaint</td>\n",
       "      <td>3211475</td>\n",
       "      <td>0.0</td>\n",
       "      <td>None</td>\n",
       "      <td>90301</td>\n",
       "      <td>3211475</td>\n",
       "      <td>Attempts to collect debt not owed</td>\n",
       "      <td>2019-04-13T12:00:00-05:00</td>\n",
       "      <td>CA</td>\n",
       "      <td>...</td>\n",
       "      <td>Closed with explanation</td>\n",
       "      <td>JPMORGAN CHASE &amp; CO.</td>\n",
       "      <td>Web</td>\n",
       "      <td>2019-04-13T12:00:00-05:00</td>\n",
       "      <td>None</td>\n",
       "      <td>Credit card debt</td>\n",
       "      <td>Yes</td>\n",
       "      <td></td>\n",
       "      <td>Debt is not yours</td>\n",
       "      <td>Consent not provided</td>\n",
       "    </tr>\n",
       "    <tr>\n",
       "      <th>1</th>\n",
       "      <td>complaint-public-v2</td>\n",
       "      <td>complaint</td>\n",
       "      <td>3229299</td>\n",
       "      <td>0.0</td>\n",
       "      <td>Servicemember</td>\n",
       "      <td>319XX</td>\n",
       "      <td>3229299</td>\n",
       "      <td>Written notification about debt</td>\n",
       "      <td>2019-05-01T12:00:00-05:00</td>\n",
       "      <td>GA</td>\n",
       "      <td>...</td>\n",
       "      <td>Closed with explanation</td>\n",
       "      <td>JPMORGAN CHASE &amp; CO.</td>\n",
       "      <td>Web</td>\n",
       "      <td>2019-05-01T12:00:00-05:00</td>\n",
       "      <td>None</td>\n",
       "      <td>Credit card debt</td>\n",
       "      <td>Yes</td>\n",
       "      <td>Good morning my name is XXXX XXXX and I apprec...</td>\n",
       "      <td>Didn't receive enough information to verify debt</td>\n",
       "      <td>Consent provided</td>\n",
       "    </tr>\n",
       "    <tr>\n",
       "      <th>2</th>\n",
       "      <td>complaint-public-v2</td>\n",
       "      <td>complaint</td>\n",
       "      <td>3199379</td>\n",
       "      <td>0.0</td>\n",
       "      <td>None</td>\n",
       "      <td>77069</td>\n",
       "      <td>3199379</td>\n",
       "      <td>Other features, terms, or problems</td>\n",
       "      <td>2019-04-02T12:00:00-05:00</td>\n",
       "      <td>TX</td>\n",
       "      <td>...</td>\n",
       "      <td>Closed with explanation</td>\n",
       "      <td>JPMORGAN CHASE &amp; CO.</td>\n",
       "      <td>Web</td>\n",
       "      <td>2019-04-02T12:00:00-05:00</td>\n",
       "      <td>None</td>\n",
       "      <td>General-purpose credit card or charge card</td>\n",
       "      <td>Yes</td>\n",
       "      <td>I upgraded my XXXX XXXX card in XX/XX/2018 and...</td>\n",
       "      <td>Problem with rewards from credit card</td>\n",
       "      <td>Consent provided</td>\n",
       "    </tr>\n",
       "    <tr>\n",
       "      <th>3</th>\n",
       "      <td>complaint-public-v2</td>\n",
       "      <td>complaint</td>\n",
       "      <td>2673060</td>\n",
       "      <td>0.0</td>\n",
       "      <td>None</td>\n",
       "      <td>48066</td>\n",
       "      <td>2673060</td>\n",
       "      <td>Trouble during payment process</td>\n",
       "      <td>2017-09-13T12:00:00-05:00</td>\n",
       "      <td>MI</td>\n",
       "      <td>...</td>\n",
       "      <td>Closed with explanation</td>\n",
       "      <td>JPMORGAN CHASE &amp; CO.</td>\n",
       "      <td>Web</td>\n",
       "      <td>2017-09-14T12:00:00-05:00</td>\n",
       "      <td>None</td>\n",
       "      <td>Conventional home mortgage</td>\n",
       "      <td>Yes</td>\n",
       "      <td></td>\n",
       "      <td>None</td>\n",
       "      <td>Consent not provided</td>\n",
       "    </tr>\n",
       "    <tr>\n",
       "      <th>4</th>\n",
       "      <td>complaint-public-v2</td>\n",
       "      <td>complaint</td>\n",
       "      <td>3203545</td>\n",
       "      <td>0.0</td>\n",
       "      <td>None</td>\n",
       "      <td>10473</td>\n",
       "      <td>3203545</td>\n",
       "      <td>Fees or interest</td>\n",
       "      <td>2019-04-05T12:00:00-05:00</td>\n",
       "      <td>NY</td>\n",
       "      <td>...</td>\n",
       "      <td>Closed with explanation</td>\n",
       "      <td>JPMORGAN CHASE &amp; CO.</td>\n",
       "      <td>Referral</td>\n",
       "      <td>2019-04-05T12:00:00-05:00</td>\n",
       "      <td>None</td>\n",
       "      <td>General-purpose credit card or charge card</td>\n",
       "      <td>Yes</td>\n",
       "      <td></td>\n",
       "      <td>Charged too much interest</td>\n",
       "      <td>N/A</td>\n",
       "    </tr>\n",
       "  </tbody>\n",
       "</table>\n",
       "<p>5 rows × 22 columns</p>\n",
       "</div>"
      ],
      "text/plain": [
       "                _index      _type      _id  _score   _source.tags  \\\n",
       "0  complaint-public-v2  complaint  3211475     0.0           None   \n",
       "1  complaint-public-v2  complaint  3229299     0.0  Servicemember   \n",
       "2  complaint-public-v2  complaint  3199379     0.0           None   \n",
       "3  complaint-public-v2  complaint  2673060     0.0           None   \n",
       "4  complaint-public-v2  complaint  3203545     0.0           None   \n",
       "\n",
       "  _source.zip_code _source.complaint_id                       _source.issue  \\\n",
       "0            90301              3211475   Attempts to collect debt not owed   \n",
       "1            319XX              3229299     Written notification about debt   \n",
       "2            77069              3199379  Other features, terms, or problems   \n",
       "3            48066              2673060      Trouble during payment process   \n",
       "4            10473              3203545                    Fees or interest   \n",
       "\n",
       "       _source.date_received _source.state  ... _source.company_response  \\\n",
       "0  2019-04-13T12:00:00-05:00            CA  ...  Closed with explanation   \n",
       "1  2019-05-01T12:00:00-05:00            GA  ...  Closed with explanation   \n",
       "2  2019-04-02T12:00:00-05:00            TX  ...  Closed with explanation   \n",
       "3  2017-09-13T12:00:00-05:00            MI  ...  Closed with explanation   \n",
       "4  2019-04-05T12:00:00-05:00            NY  ...  Closed with explanation   \n",
       "\n",
       "        _source.company _source.submitted_via _source.date_sent_to_company  \\\n",
       "0  JPMORGAN CHASE & CO.                   Web    2019-04-13T12:00:00-05:00   \n",
       "1  JPMORGAN CHASE & CO.                   Web    2019-05-01T12:00:00-05:00   \n",
       "2  JPMORGAN CHASE & CO.                   Web    2019-04-02T12:00:00-05:00   \n",
       "3  JPMORGAN CHASE & CO.                   Web    2017-09-14T12:00:00-05:00   \n",
       "4  JPMORGAN CHASE & CO.              Referral    2019-04-05T12:00:00-05:00   \n",
       "\n",
       "  _source.company_public_response                         _source.sub_product  \\\n",
       "0                            None                            Credit card debt   \n",
       "1                            None                            Credit card debt   \n",
       "2                            None  General-purpose credit card or charge card   \n",
       "3                            None                  Conventional home mortgage   \n",
       "4                            None  General-purpose credit card or charge card   \n",
       "\n",
       "  _source.timely                    _source.complaint_what_happened  \\\n",
       "0            Yes                                                      \n",
       "1            Yes  Good morning my name is XXXX XXXX and I apprec...   \n",
       "2            Yes  I upgraded my XXXX XXXX card in XX/XX/2018 and...   \n",
       "3            Yes                                                      \n",
       "4            Yes                                                      \n",
       "\n",
       "                                  _source.sub_issue  \\\n",
       "0                                 Debt is not yours   \n",
       "1  Didn't receive enough information to verify debt   \n",
       "2             Problem with rewards from credit card   \n",
       "3                                              None   \n",
       "4                         Charged too much interest   \n",
       "\n",
       "  _source.consumer_consent_provided  \n",
       "0              Consent not provided  \n",
       "1                  Consent provided  \n",
       "2                  Consent provided  \n",
       "3              Consent not provided  \n",
       "4                               N/A  \n",
       "\n",
       "[5 rows x 22 columns]"
      ]
     },
     "execution_count": 6,
     "metadata": {},
     "output_type": "execute_result"
    }
   ],
   "source": [
    "df_m = pd.json_normalize(data)\n",
    "df_m.head()"
   ]
  },
  {
   "cell_type": "markdown",
   "id": "20b78ae4",
   "metadata": {},
   "source": [
    "# Text Preprocessing and Exploratory Data Analysis(EDA)"
   ]
  },
  {
   "cell_type": "code",
   "execution_count": 7,
   "id": "61f9d07c",
   "metadata": {},
   "outputs": [
    {
     "data": {
      "text/plain": [
       "(78313, 22)"
      ]
     },
     "execution_count": 7,
     "metadata": {},
     "output_type": "execute_result"
    }
   ],
   "source": [
    "df_m.shape"
   ]
  },
  {
   "cell_type": "code",
   "execution_count": 8,
   "id": "e87ee78a",
   "metadata": {},
   "outputs": [
    {
     "name": "stdout",
     "output_type": "stream",
     "text": [
      "<class 'pandas.core.frame.DataFrame'>\n",
      "RangeIndex: 78313 entries, 0 to 78312\n",
      "Data columns (total 22 columns):\n",
      " #   Column                             Non-Null Count  Dtype  \n",
      "---  ------                             --------------  -----  \n",
      " 0   _index                             78313 non-null  object \n",
      " 1   _type                              78313 non-null  object \n",
      " 2   _id                                78313 non-null  object \n",
      " 3   _score                             78313 non-null  float64\n",
      " 4   _source.tags                       10900 non-null  object \n",
      " 5   _source.zip_code                   71556 non-null  object \n",
      " 6   _source.complaint_id               78313 non-null  object \n",
      " 7   _source.issue                      78313 non-null  object \n",
      " 8   _source.date_received              78313 non-null  object \n",
      " 9   _source.state                      76322 non-null  object \n",
      " 10  _source.consumer_disputed          78313 non-null  object \n",
      " 11  _source.product                    78313 non-null  object \n",
      " 12  _source.company_response           78313 non-null  object \n",
      " 13  _source.company                    78313 non-null  object \n",
      " 14  _source.submitted_via              78313 non-null  object \n",
      " 15  _source.date_sent_to_company       78313 non-null  object \n",
      " 16  _source.company_public_response    4 non-null      object \n",
      " 17  _source.sub_product                67742 non-null  object \n",
      " 18  _source.timely                     78313 non-null  object \n",
      " 19  _source.complaint_what_happened    78313 non-null  object \n",
      " 20  _source.sub_issue                  32016 non-null  object \n",
      " 21  _source.consumer_consent_provided  77305 non-null  object \n",
      "dtypes: float64(1), object(21)\n",
      "memory usage: 13.1+ MB\n"
     ]
    }
   ],
   "source": [
    "df_m.info()"
   ]
  },
  {
   "cell_type": "markdown",
   "id": "0ad1465b",
   "metadata": {},
   "source": [
    "### Searching for Null values."
   ]
  },
  {
   "cell_type": "code",
   "execution_count": 9,
   "id": "8fe47884",
   "metadata": {},
   "outputs": [
    {
     "data": {
      "text/plain": [
       "_index                                   0\n",
       "_type                                    0\n",
       "_id                                      0\n",
       "_score                                   0\n",
       "_source.tags                         67413\n",
       "_source.zip_code                      6757\n",
       "_source.complaint_id                     0\n",
       "_source.issue                            0\n",
       "_source.date_received                    0\n",
       "_source.state                         1991\n",
       "_source.consumer_disputed                0\n",
       "_source.product                          0\n",
       "_source.company_response                 0\n",
       "_source.company                          0\n",
       "_source.submitted_via                    0\n",
       "_source.date_sent_to_company             0\n",
       "_source.company_public_response      78309\n",
       "_source.sub_product                  10571\n",
       "_source.timely                           0\n",
       "_source.complaint_what_happened          0\n",
       "_source.sub_issue                    46297\n",
       "_source.consumer_consent_provided     1008\n",
       "dtype: int64"
      ]
     },
     "execution_count": 9,
     "metadata": {},
     "output_type": "execute_result"
    }
   ],
   "source": [
    "df_m.isnull().sum()"
   ]
  },
  {
   "cell_type": "code",
   "execution_count": 10,
   "id": "d34d7d72",
   "metadata": {},
   "outputs": [
    {
     "data": {
      "text/plain": [
       "Mortgage                                                                        22725\n",
       "Checking or savings account                                                     12147\n",
       "Credit card or prepaid card                                                     10797\n",
       "Credit card                                                                     10373\n",
       "Bank account or service                                                          9816\n",
       "Credit reporting, credit repair services, or other personal consumer reports     4310\n",
       "Debt collection                                                                  3201\n",
       "Money transfer, virtual currency, or money service                               1500\n",
       "Consumer Loan                                                                    1029\n",
       "Vehicle loan or lease                                                             892\n",
       "Student loan                                                                      866\n",
       "Money transfers                                                                   228\n",
       "Credit reporting                                                                  192\n",
       "Payday loan, title loan, or personal loan                                         139\n",
       "Other financial service                                                            60\n",
       "Prepaid card                                                                       32\n",
       "Payday loan                                                                         6\n",
       "Name: _source.product, dtype: int64"
      ]
     },
     "execution_count": 10,
     "metadata": {},
     "output_type": "execute_result"
    }
   ],
   "source": [
    "df_m[\"_source.product\"].value_counts()"
   ]
  },
  {
   "cell_type": "markdown",
   "id": "72fd365e",
   "metadata": {},
   "source": [
    "### Assign nan in place of blanks in the complaints column"
   ]
  },
  {
   "cell_type": "code",
   "execution_count": 11,
   "id": "61718525",
   "metadata": {},
   "outputs": [],
   "source": [
    "df_m[df_m.loc[:, '_source.complaint_what_happened'] == ''] = np.nan"
   ]
  },
  {
   "cell_type": "code",
   "execution_count": 12,
   "id": "27bdbc24",
   "metadata": {},
   "outputs": [
    {
     "data": {
      "text/html": [
       "<div>\n",
       "<style scoped>\n",
       "    .dataframe tbody tr th:only-of-type {\n",
       "        vertical-align: middle;\n",
       "    }\n",
       "\n",
       "    .dataframe tbody tr th {\n",
       "        vertical-align: top;\n",
       "    }\n",
       "\n",
       "    .dataframe thead th {\n",
       "        text-align: right;\n",
       "    }\n",
       "</style>\n",
       "<table border=\"1\" class=\"dataframe\">\n",
       "  <thead>\n",
       "    <tr style=\"text-align: right;\">\n",
       "      <th></th>\n",
       "      <th>_index</th>\n",
       "      <th>_type</th>\n",
       "      <th>_id</th>\n",
       "      <th>_score</th>\n",
       "      <th>_source.tags</th>\n",
       "      <th>_source.zip_code</th>\n",
       "      <th>_source.complaint_id</th>\n",
       "      <th>_source.issue</th>\n",
       "      <th>_source.date_received</th>\n",
       "      <th>_source.state</th>\n",
       "      <th>...</th>\n",
       "      <th>_source.company_response</th>\n",
       "      <th>_source.company</th>\n",
       "      <th>_source.submitted_via</th>\n",
       "      <th>_source.date_sent_to_company</th>\n",
       "      <th>_source.company_public_response</th>\n",
       "      <th>_source.sub_product</th>\n",
       "      <th>_source.timely</th>\n",
       "      <th>_source.complaint_what_happened</th>\n",
       "      <th>_source.sub_issue</th>\n",
       "      <th>_source.consumer_consent_provided</th>\n",
       "    </tr>\n",
       "  </thead>\n",
       "  <tbody>\n",
       "  </tbody>\n",
       "</table>\n",
       "<p>0 rows × 22 columns</p>\n",
       "</div>"
      ],
      "text/plain": [
       "Empty DataFrame\n",
       "Columns: [_index, _type, _id, _score, _source.tags, _source.zip_code, _source.complaint_id, _source.issue, _source.date_received, _source.state, _source.consumer_disputed, _source.product, _source.company_response, _source.company, _source.submitted_via, _source.date_sent_to_company, _source.company_public_response, _source.sub_product, _source.timely, _source.complaint_what_happened, _source.sub_issue, _source.consumer_consent_provided]\n",
       "Index: []\n",
       "\n",
       "[0 rows x 22 columns]"
      ]
     },
     "execution_count": 12,
     "metadata": {},
     "output_type": "execute_result"
    }
   ],
   "source": [
    "df_m[df_m.loc[:, '_source.complaint_what_happened'] == '']"
   ]
  },
  {
   "cell_type": "code",
   "execution_count": 13,
   "id": "8c1c0596",
   "metadata": {},
   "outputs": [
    {
     "data": {
      "text/plain": [
       "(78313, 22)"
      ]
     },
     "execution_count": 13,
     "metadata": {},
     "output_type": "execute_result"
    }
   ],
   "source": [
    "df_m.shape"
   ]
  },
  {
   "cell_type": "markdown",
   "id": "354f30d8",
   "metadata": {},
   "source": [
    "### Removing rows will Null values."
   ]
  },
  {
   "cell_type": "code",
   "execution_count": 14,
   "id": "59f54c4e",
   "metadata": {},
   "outputs": [],
   "source": [
    "df_m = df_m[~df_m['_source.complaint_what_happened'].isnull()]"
   ]
  },
  {
   "cell_type": "code",
   "execution_count": 15,
   "id": "4cc3f93a",
   "metadata": {},
   "outputs": [
    {
     "data": {
      "text/plain": [
       "(21072, 22)"
      ]
     },
     "execution_count": 15,
     "metadata": {},
     "output_type": "execute_result"
    }
   ],
   "source": [
    "df_m.shape"
   ]
  },
  {
   "cell_type": "markdown",
   "id": "e7502a25",
   "metadata": {},
   "source": [
    "### Convert _source.complaint_what_happened column to string for performing text operations."
   ]
  },
  {
   "cell_type": "code",
   "execution_count": 16,
   "id": "798425d0",
   "metadata": {},
   "outputs": [],
   "source": [
    "df_m['_source.complaint_what_happened'] = df_m['_source.complaint_what_happened'].astype('string')"
   ]
  },
  {
   "cell_type": "code",
   "execution_count": 17,
   "id": "4e86882b",
   "metadata": {},
   "outputs": [
    {
     "data": {
      "text/plain": [
       "string[python]"
      ]
     },
     "execution_count": 17,
     "metadata": {},
     "output_type": "execute_result"
    }
   ],
   "source": [
    "df_m['_source.complaint_what_happened'].dtype"
   ]
  },
  {
   "cell_type": "markdown",
   "id": "31d14761",
   "metadata": {},
   "source": [
    "### Function to clean the text and remove all the unnecessary elements."
   ]
  },
  {
   "cell_type": "code",
   "execution_count": 18,
   "id": "8ad7874e",
   "metadata": {},
   "outputs": [],
   "source": [
    "def cleanning(text):\n",
    "    text = text.lower()\n",
    "    pattern = '[^\\w\\s]'\n",
    "    text = re.sub(pattern, '', text) \n",
    "    pattern = '\\w*\\d\\w*'\n",
    "    text = re.sub(pattern, '', text) \n",
    "    return text"
   ]
  },
  {
   "cell_type": "code",
   "execution_count": 19,
   "id": "dc2f82af",
   "metadata": {},
   "outputs": [],
   "source": [
    "dff = pd.DataFrame(df_m['_source.complaint_what_happened'].apply(cleanning))"
   ]
  },
  {
   "cell_type": "code",
   "execution_count": 20,
   "id": "3f21a2cd",
   "metadata": {},
   "outputs": [
    {
     "data": {
      "text/html": [
       "<div>\n",
       "<style scoped>\n",
       "    .dataframe tbody tr th:only-of-type {\n",
       "        vertical-align: middle;\n",
       "    }\n",
       "\n",
       "    .dataframe tbody tr th {\n",
       "        vertical-align: top;\n",
       "    }\n",
       "\n",
       "    .dataframe thead th {\n",
       "        text-align: right;\n",
       "    }\n",
       "</style>\n",
       "<table border=\"1\" class=\"dataframe\">\n",
       "  <thead>\n",
       "    <tr style=\"text-align: right;\">\n",
       "      <th></th>\n",
       "      <th>_source.complaint_what_happened</th>\n",
       "    </tr>\n",
       "  </thead>\n",
       "  <tbody>\n",
       "    <tr>\n",
       "      <th>1</th>\n",
       "      <td>good morning my name is xxxx xxxx and i apprec...</td>\n",
       "    </tr>\n",
       "    <tr>\n",
       "      <th>2</th>\n",
       "      <td>i upgraded my xxxx xxxx card in  and was told ...</td>\n",
       "    </tr>\n",
       "    <tr>\n",
       "      <th>10</th>\n",
       "      <td>chase card was reported on  however fraudulent...</td>\n",
       "    </tr>\n",
       "    <tr>\n",
       "      <th>11</th>\n",
       "      <td>on  while trying to book a xxxx  xxxx  ticket ...</td>\n",
       "    </tr>\n",
       "    <tr>\n",
       "      <th>14</th>\n",
       "      <td>my grand son give me check for  i deposit it i...</td>\n",
       "    </tr>\n",
       "    <tr>\n",
       "      <th>...</th>\n",
       "      <td>...</td>\n",
       "    </tr>\n",
       "    <tr>\n",
       "      <th>78303</th>\n",
       "      <td>after being a chase card customer for well ove...</td>\n",
       "    </tr>\n",
       "    <tr>\n",
       "      <th>78309</th>\n",
       "      <td>on wednesday xxxxxxxx i called chas my xxxx xx...</td>\n",
       "    </tr>\n",
       "    <tr>\n",
       "      <th>78310</th>\n",
       "      <td>i am not familiar with xxxx pay and did not un...</td>\n",
       "    </tr>\n",
       "    <tr>\n",
       "      <th>78311</th>\n",
       "      <td>i have had flawless credit for  yrs ive had ch...</td>\n",
       "    </tr>\n",
       "    <tr>\n",
       "      <th>78312</th>\n",
       "      <td>roughly  years ago i closed out my accounts wi...</td>\n",
       "    </tr>\n",
       "  </tbody>\n",
       "</table>\n",
       "<p>21072 rows × 1 columns</p>\n",
       "</div>"
      ],
      "text/plain": [
       "                         _source.complaint_what_happened\n",
       "1      good morning my name is xxxx xxxx and i apprec...\n",
       "2      i upgraded my xxxx xxxx card in  and was told ...\n",
       "10     chase card was reported on  however fraudulent...\n",
       "11     on  while trying to book a xxxx  xxxx  ticket ...\n",
       "14     my grand son give me check for  i deposit it i...\n",
       "...                                                  ...\n",
       "78303  after being a chase card customer for well ove...\n",
       "78309  on wednesday xxxxxxxx i called chas my xxxx xx...\n",
       "78310  i am not familiar with xxxx pay and did not un...\n",
       "78311  i have had flawless credit for  yrs ive had ch...\n",
       "78312  roughly  years ago i closed out my accounts wi...\n",
       "\n",
       "[21072 rows x 1 columns]"
      ]
     },
     "execution_count": 20,
     "metadata": {},
     "output_type": "execute_result"
    }
   ],
   "source": [
    "dff"
   ]
  },
  {
   "cell_type": "code",
   "execution_count": 21,
   "id": "182e272f",
   "metadata": {},
   "outputs": [],
   "source": [
    "from nltk.stem import WordNetLemmatizer\n",
    "from nltk.tokenize import word_tokenize"
   ]
  },
  {
   "cell_type": "code",
   "execution_count": 22,
   "id": "bf23d269",
   "metadata": {},
   "outputs": [],
   "source": [
    "import spacy\n",
    "import en_core_web_sm\n",
    "nlp = en_core_web_sm.load()"
   ]
  },
  {
   "cell_type": "markdown",
   "id": "503b0e9a",
   "metadata": {},
   "source": [
    "### Function to Lemmatize the text."
   ]
  },
  {
   "cell_type": "code",
   "execution_count": 23,
   "id": "051303cf",
   "metadata": {},
   "outputs": [],
   "source": [
    "def lemmmatize(text):\n",
    "    sent = []\n",
    "    doc = nlp(text)\n",
    "    for token in doc:\n",
    "        sent.append(token.lemma_)\n",
    "    return \" \".join(sent)"
   ]
  },
  {
   "cell_type": "code",
   "execution_count": 24,
   "id": "607c8363",
   "metadata": {},
   "outputs": [],
   "source": [
    "dff['complaint_what_happened_cleanning'] = dff['_source.complaint_what_happened'].apply(lemmmatize)"
   ]
  },
  {
   "cell_type": "code",
   "execution_count": 25,
   "id": "6dcfb598",
   "metadata": {},
   "outputs": [
    {
     "data": {
      "text/html": [
       "<div>\n",
       "<style scoped>\n",
       "    .dataframe tbody tr th:only-of-type {\n",
       "        vertical-align: middle;\n",
       "    }\n",
       "\n",
       "    .dataframe tbody tr th {\n",
       "        vertical-align: top;\n",
       "    }\n",
       "\n",
       "    .dataframe thead th {\n",
       "        text-align: right;\n",
       "    }\n",
       "</style>\n",
       "<table border=\"1\" class=\"dataframe\">\n",
       "  <thead>\n",
       "    <tr style=\"text-align: right;\">\n",
       "      <th></th>\n",
       "      <th>_source.complaint_what_happened</th>\n",
       "      <th>complaint_what_happened_cleanning</th>\n",
       "    </tr>\n",
       "  </thead>\n",
       "  <tbody>\n",
       "    <tr>\n",
       "      <th>1</th>\n",
       "      <td>good morning my name is xxxx xxxx and i apprec...</td>\n",
       "      <td>good morning my name be xxxx xxxx and I apprec...</td>\n",
       "    </tr>\n",
       "    <tr>\n",
       "      <th>2</th>\n",
       "      <td>i upgraded my xxxx xxxx card in  and was told ...</td>\n",
       "      <td>I upgrade my xxxx xxxx card in   and be tell b...</td>\n",
       "    </tr>\n",
       "    <tr>\n",
       "      <th>10</th>\n",
       "      <td>chase card was reported on  however fraudulent...</td>\n",
       "      <td>chase card be report on   however fraudulent a...</td>\n",
       "    </tr>\n",
       "    <tr>\n",
       "      <th>11</th>\n",
       "      <td>on  while trying to book a xxxx  xxxx  ticket ...</td>\n",
       "      <td>on   while try to book a xxxx   xxxx   ticket ...</td>\n",
       "    </tr>\n",
       "    <tr>\n",
       "      <th>14</th>\n",
       "      <td>my grand son give me check for  i deposit it i...</td>\n",
       "      <td>my grand son give I check for   I deposit it i...</td>\n",
       "    </tr>\n",
       "    <tr>\n",
       "      <th>...</th>\n",
       "      <td>...</td>\n",
       "      <td>...</td>\n",
       "    </tr>\n",
       "    <tr>\n",
       "      <th>78303</th>\n",
       "      <td>after being a chase card customer for well ove...</td>\n",
       "      <td>after be a chase card customer for well over a...</td>\n",
       "    </tr>\n",
       "    <tr>\n",
       "      <th>78309</th>\n",
       "      <td>on wednesday xxxxxxxx i called chas my xxxx xx...</td>\n",
       "      <td>on wednesday xxxxxxxx I call cha my xxxx xxxx ...</td>\n",
       "    </tr>\n",
       "    <tr>\n",
       "      <th>78310</th>\n",
       "      <td>i am not familiar with xxxx pay and did not un...</td>\n",
       "      <td>I be not familiar with xxxx pay and do not und...</td>\n",
       "    </tr>\n",
       "    <tr>\n",
       "      <th>78311</th>\n",
       "      <td>i have had flawless credit for  yrs ive had ch...</td>\n",
       "      <td>I have have flawless credit for   yrs I ve hav...</td>\n",
       "    </tr>\n",
       "    <tr>\n",
       "      <th>78312</th>\n",
       "      <td>roughly  years ago i closed out my accounts wi...</td>\n",
       "      <td>roughly   year ago I close out my account with...</td>\n",
       "    </tr>\n",
       "  </tbody>\n",
       "</table>\n",
       "<p>21072 rows × 2 columns</p>\n",
       "</div>"
      ],
      "text/plain": [
       "                         _source.complaint_what_happened  \\\n",
       "1      good morning my name is xxxx xxxx and i apprec...   \n",
       "2      i upgraded my xxxx xxxx card in  and was told ...   \n",
       "10     chase card was reported on  however fraudulent...   \n",
       "11     on  while trying to book a xxxx  xxxx  ticket ...   \n",
       "14     my grand son give me check for  i deposit it i...   \n",
       "...                                                  ...   \n",
       "78303  after being a chase card customer for well ove...   \n",
       "78309  on wednesday xxxxxxxx i called chas my xxxx xx...   \n",
       "78310  i am not familiar with xxxx pay and did not un...   \n",
       "78311  i have had flawless credit for  yrs ive had ch...   \n",
       "78312  roughly  years ago i closed out my accounts wi...   \n",
       "\n",
       "                       complaint_what_happened_cleanning  \n",
       "1      good morning my name be xxxx xxxx and I apprec...  \n",
       "2      I upgrade my xxxx xxxx card in   and be tell b...  \n",
       "10     chase card be report on   however fraudulent a...  \n",
       "11     on   while try to book a xxxx   xxxx   ticket ...  \n",
       "14     my grand son give I check for   I deposit it i...  \n",
       "...                                                  ...  \n",
       "78303  after be a chase card customer for well over a...  \n",
       "78309  on wednesday xxxxxxxx I call cha my xxxx xxxx ...  \n",
       "78310  I be not familiar with xxxx pay and do not und...  \n",
       "78311  I have have flawless credit for   yrs I ve hav...  \n",
       "78312  roughly   year ago I close out my account with...  \n",
       "\n",
       "[21072 rows x 2 columns]"
      ]
     },
     "execution_count": 25,
     "metadata": {},
     "output_type": "execute_result"
    }
   ],
   "source": [
    "dff"
   ]
  },
  {
   "cell_type": "markdown",
   "id": "48904c4d",
   "metadata": {},
   "source": [
    "### Removing all xxxx text from each row."
   ]
  },
  {
   "cell_type": "code",
   "execution_count": 26,
   "id": "04afecef",
   "metadata": {},
   "outputs": [],
   "source": [
    "dff['complaint_what_happened_cleanning'] = dff['complaint_what_happened_cleanning'].str.replace('xxxx','')"
   ]
  },
  {
   "cell_type": "code",
   "execution_count": 27,
   "id": "d67a1e53",
   "metadata": {},
   "outputs": [
    {
     "data": {
      "text/html": [
       "<div>\n",
       "<style scoped>\n",
       "    .dataframe tbody tr th:only-of-type {\n",
       "        vertical-align: middle;\n",
       "    }\n",
       "\n",
       "    .dataframe tbody tr th {\n",
       "        vertical-align: top;\n",
       "    }\n",
       "\n",
       "    .dataframe thead th {\n",
       "        text-align: right;\n",
       "    }\n",
       "</style>\n",
       "<table border=\"1\" class=\"dataframe\">\n",
       "  <thead>\n",
       "    <tr style=\"text-align: right;\">\n",
       "      <th></th>\n",
       "      <th>_source.complaint_what_happened</th>\n",
       "      <th>complaint_what_happened_cleanning</th>\n",
       "    </tr>\n",
       "  </thead>\n",
       "  <tbody>\n",
       "    <tr>\n",
       "      <th>1</th>\n",
       "      <td>good morning my name is xxxx xxxx and i apprec...</td>\n",
       "      <td>good morning my name be   and I appreciate it ...</td>\n",
       "    </tr>\n",
       "    <tr>\n",
       "      <th>2</th>\n",
       "      <td>i upgraded my xxxx xxxx card in  and was told ...</td>\n",
       "      <td>I upgrade my   card in   and be tell by the ag...</td>\n",
       "    </tr>\n",
       "    <tr>\n",
       "      <th>10</th>\n",
       "      <td>chase card was reported on  however fraudulent...</td>\n",
       "      <td>chase card be report on   however fraudulent a...</td>\n",
       "    </tr>\n",
       "    <tr>\n",
       "      <th>11</th>\n",
       "      <td>on  while trying to book a xxxx  xxxx  ticket ...</td>\n",
       "      <td>on   while try to book a       ticket I come a...</td>\n",
       "    </tr>\n",
       "    <tr>\n",
       "      <th>14</th>\n",
       "      <td>my grand son give me check for  i deposit it i...</td>\n",
       "      <td>my grand son give I check for   I deposit it i...</td>\n",
       "    </tr>\n",
       "    <tr>\n",
       "      <th>...</th>\n",
       "      <td>...</td>\n",
       "      <td>...</td>\n",
       "    </tr>\n",
       "    <tr>\n",
       "      <th>78303</th>\n",
       "      <td>after being a chase card customer for well ove...</td>\n",
       "      <td>after be a chase card customer for well over a...</td>\n",
       "    </tr>\n",
       "    <tr>\n",
       "      <th>78309</th>\n",
       "      <td>on wednesday xxxxxxxx i called chas my xxxx xx...</td>\n",
       "      <td>on wednesday  I call cha my   visa credit card...</td>\n",
       "    </tr>\n",
       "    <tr>\n",
       "      <th>78310</th>\n",
       "      <td>i am not familiar with xxxx pay and did not un...</td>\n",
       "      <td>I be not familiar with  pay and do not underst...</td>\n",
       "    </tr>\n",
       "    <tr>\n",
       "      <th>78311</th>\n",
       "      <td>i have had flawless credit for  yrs ive had ch...</td>\n",
       "      <td>I have have flawless credit for   yrs I ve hav...</td>\n",
       "    </tr>\n",
       "    <tr>\n",
       "      <th>78312</th>\n",
       "      <td>roughly  years ago i closed out my accounts wi...</td>\n",
       "      <td>roughly   year ago I close out my account with...</td>\n",
       "    </tr>\n",
       "  </tbody>\n",
       "</table>\n",
       "<p>21072 rows × 2 columns</p>\n",
       "</div>"
      ],
      "text/plain": [
       "                         _source.complaint_what_happened  \\\n",
       "1      good morning my name is xxxx xxxx and i apprec...   \n",
       "2      i upgraded my xxxx xxxx card in  and was told ...   \n",
       "10     chase card was reported on  however fraudulent...   \n",
       "11     on  while trying to book a xxxx  xxxx  ticket ...   \n",
       "14     my grand son give me check for  i deposit it i...   \n",
       "...                                                  ...   \n",
       "78303  after being a chase card customer for well ove...   \n",
       "78309  on wednesday xxxxxxxx i called chas my xxxx xx...   \n",
       "78310  i am not familiar with xxxx pay and did not un...   \n",
       "78311  i have had flawless credit for  yrs ive had ch...   \n",
       "78312  roughly  years ago i closed out my accounts wi...   \n",
       "\n",
       "                       complaint_what_happened_cleanning  \n",
       "1      good morning my name be   and I appreciate it ...  \n",
       "2      I upgrade my   card in   and be tell by the ag...  \n",
       "10     chase card be report on   however fraudulent a...  \n",
       "11     on   while try to book a       ticket I come a...  \n",
       "14     my grand son give I check for   I deposit it i...  \n",
       "...                                                  ...  \n",
       "78303  after be a chase card customer for well over a...  \n",
       "78309  on wednesday  I call cha my   visa credit card...  \n",
       "78310  I be not familiar with  pay and do not underst...  \n",
       "78311  I have have flawless credit for   yrs I ve hav...  \n",
       "78312  roughly   year ago I close out my account with...  \n",
       "\n",
       "[21072 rows x 2 columns]"
      ]
     },
     "execution_count": 27,
     "metadata": {},
     "output_type": "execute_result"
    }
   ],
   "source": [
    "dff"
   ]
  },
  {
   "cell_type": "code",
   "execution_count": 28,
   "id": "dd7ad7d0",
   "metadata": {},
   "outputs": [],
   "source": [
    "# Import Textblob for extracting noun phrases\n",
    "from textblob import TextBlob"
   ]
  },
  {
   "cell_type": "markdown",
   "id": "fab0fd7a",
   "metadata": {},
   "source": [
    "### Function to extract the POS tags. "
   ]
  },
  {
   "cell_type": "code",
   "execution_count": 29,
   "id": "1597f2b0",
   "metadata": {},
   "outputs": [],
   "source": [
    "def get_POS_tags(text):\n",
    "    sent = []\n",
    "    blob = TextBlob(text)\n",
    "    sent = [word for (word,tag) in blob.tags if tag=='NN']\n",
    "    return \" \".join(sent)"
   ]
  },
  {
   "cell_type": "code",
   "execution_count": 30,
   "id": "d8c08cf3",
   "metadata": {},
   "outputs": [],
   "source": [
    "dff['complaint_what_happened_clean'] = dff['complaint_what_happened_cleanning'].apply(get_POS_tags)"
   ]
  },
  {
   "cell_type": "code",
   "execution_count": 31,
   "id": "f336559a",
   "metadata": {},
   "outputs": [
    {
     "data": {
      "text/html": [
       "<div>\n",
       "<style scoped>\n",
       "    .dataframe tbody tr th:only-of-type {\n",
       "        vertical-align: middle;\n",
       "    }\n",
       "\n",
       "    .dataframe tbody tr th {\n",
       "        vertical-align: top;\n",
       "    }\n",
       "\n",
       "    .dataframe thead th {\n",
       "        text-align: right;\n",
       "    }\n",
       "</style>\n",
       "<table border=\"1\" class=\"dataframe\">\n",
       "  <thead>\n",
       "    <tr style=\"text-align: right;\">\n",
       "      <th></th>\n",
       "      <th>_source.complaint_what_happened</th>\n",
       "      <th>complaint_what_happened_cleanning</th>\n",
       "      <th>complaint_what_happened_clean</th>\n",
       "    </tr>\n",
       "  </thead>\n",
       "  <tbody>\n",
       "    <tr>\n",
       "      <th>1</th>\n",
       "      <td>good morning my name is xxxx xxxx and i apprec...</td>\n",
       "      <td>good morning my name be   and I appreciate it ...</td>\n",
       "      <td>morning name stop bank cardmember service ask ...</td>\n",
       "    </tr>\n",
       "    <tr>\n",
       "      <th>2</th>\n",
       "      <td>i upgraded my xxxx xxxx card in  and was told ...</td>\n",
       "      <td>I upgrade my   card in   and be tell by the ag...</td>\n",
       "      <td>card agent upgrade date agent information orde...</td>\n",
       "    </tr>\n",
       "    <tr>\n",
       "      <th>10</th>\n",
       "      <td>chase card was reported on  however fraudulent...</td>\n",
       "      <td>chase card be report on   however fraudulent a...</td>\n",
       "      <td>card report application identity consent servi...</td>\n",
       "    </tr>\n",
       "    <tr>\n",
       "      <th>11</th>\n",
       "      <td>on  while trying to book a xxxx  xxxx  ticket ...</td>\n",
       "      <td>on   while try to book a       ticket I come a...</td>\n",
       "      <td>try book ticket offer ticket card information ...</td>\n",
       "    </tr>\n",
       "    <tr>\n",
       "      <th>14</th>\n",
       "      <td>my grand son give me check for  i deposit it i...</td>\n",
       "      <td>my grand son give I check for   I deposit it i...</td>\n",
       "      <td>son chase account fund bank account pay money ...</td>\n",
       "    </tr>\n",
       "    <tr>\n",
       "      <th>...</th>\n",
       "      <td>...</td>\n",
       "      <td>...</td>\n",
       "      <td>...</td>\n",
       "    </tr>\n",
       "    <tr>\n",
       "      <th>78303</th>\n",
       "      <td>after being a chase card customer for well ove...</td>\n",
       "      <td>after be a chase card customer for well over a...</td>\n",
       "      <td>card customer decade solicitation credit card ...</td>\n",
       "    </tr>\n",
       "    <tr>\n",
       "      <th>78309</th>\n",
       "      <td>on wednesday xxxxxxxx i called chas my xxxx xx...</td>\n",
       "      <td>on wednesday  I call cha my   visa credit card...</td>\n",
       "      <td>wednesday credit card provider claim purchase ...</td>\n",
       "    </tr>\n",
       "    <tr>\n",
       "      <th>78310</th>\n",
       "      <td>i am not familiar with xxxx pay and did not un...</td>\n",
       "      <td>I be not familiar with  pay and do not underst...</td>\n",
       "      <td>pay risk provide consumer bank app chase year ...</td>\n",
       "    </tr>\n",
       "    <tr>\n",
       "      <th>78311</th>\n",
       "      <td>i have had flawless credit for  yrs ive had ch...</td>\n",
       "      <td>I have have flawless credit for   yrs I ve hav...</td>\n",
       "      <td>credit yrs credit card chase freedom problem b...</td>\n",
       "    </tr>\n",
       "    <tr>\n",
       "      <th>78312</th>\n",
       "      <td>roughly  years ago i closed out my accounts wi...</td>\n",
       "      <td>roughly   year ago I close out my account with...</td>\n",
       "      <td>year account jp bank order line credit account...</td>\n",
       "    </tr>\n",
       "  </tbody>\n",
       "</table>\n",
       "<p>21072 rows × 3 columns</p>\n",
       "</div>"
      ],
      "text/plain": [
       "                         _source.complaint_what_happened  \\\n",
       "1      good morning my name is xxxx xxxx and i apprec...   \n",
       "2      i upgraded my xxxx xxxx card in  and was told ...   \n",
       "10     chase card was reported on  however fraudulent...   \n",
       "11     on  while trying to book a xxxx  xxxx  ticket ...   \n",
       "14     my grand son give me check for  i deposit it i...   \n",
       "...                                                  ...   \n",
       "78303  after being a chase card customer for well ove...   \n",
       "78309  on wednesday xxxxxxxx i called chas my xxxx xx...   \n",
       "78310  i am not familiar with xxxx pay and did not un...   \n",
       "78311  i have had flawless credit for  yrs ive had ch...   \n",
       "78312  roughly  years ago i closed out my accounts wi...   \n",
       "\n",
       "                       complaint_what_happened_cleanning  \\\n",
       "1      good morning my name be   and I appreciate it ...   \n",
       "2      I upgrade my   card in   and be tell by the ag...   \n",
       "10     chase card be report on   however fraudulent a...   \n",
       "11     on   while try to book a       ticket I come a...   \n",
       "14     my grand son give I check for   I deposit it i...   \n",
       "...                                                  ...   \n",
       "78303  after be a chase card customer for well over a...   \n",
       "78309  on wednesday  I call cha my   visa credit card...   \n",
       "78310  I be not familiar with  pay and do not underst...   \n",
       "78311  I have have flawless credit for   yrs I ve hav...   \n",
       "78312  roughly   year ago I close out my account with...   \n",
       "\n",
       "                           complaint_what_happened_clean  \n",
       "1      morning name stop bank cardmember service ask ...  \n",
       "2      card agent upgrade date agent information orde...  \n",
       "10     card report application identity consent servi...  \n",
       "11     try book ticket offer ticket card information ...  \n",
       "14     son chase account fund bank account pay money ...  \n",
       "...                                                  ...  \n",
       "78303  card customer decade solicitation credit card ...  \n",
       "78309  wednesday credit card provider claim purchase ...  \n",
       "78310  pay risk provide consumer bank app chase year ...  \n",
       "78311  credit yrs credit card chase freedom problem b...  \n",
       "78312  year account jp bank order line credit account...  \n",
       "\n",
       "[21072 rows x 3 columns]"
      ]
     },
     "execution_count": 31,
     "metadata": {},
     "output_type": "execute_result"
    }
   ],
   "source": [
    "dff"
   ]
  },
  {
   "cell_type": "markdown",
   "id": "44176b9d",
   "metadata": {},
   "source": [
    "### Removing Pronouns from the text corpus"
   ]
  },
  {
   "cell_type": "code",
   "execution_count": 32,
   "id": "69589e60",
   "metadata": {},
   "outputs": [],
   "source": [
    "dff['complaint_what_happened_clean'] = dff['complaint_what_happened_clean'].str.replace('-PRON-', '')"
   ]
  },
  {
   "cell_type": "code",
   "execution_count": 33,
   "id": "b5fdbe12",
   "metadata": {},
   "outputs": [
    {
     "data": {
      "text/html": [
       "<div>\n",
       "<style scoped>\n",
       "    .dataframe tbody tr th:only-of-type {\n",
       "        vertical-align: middle;\n",
       "    }\n",
       "\n",
       "    .dataframe tbody tr th {\n",
       "        vertical-align: top;\n",
       "    }\n",
       "\n",
       "    .dataframe thead th {\n",
       "        text-align: right;\n",
       "    }\n",
       "</style>\n",
       "<table border=\"1\" class=\"dataframe\">\n",
       "  <thead>\n",
       "    <tr style=\"text-align: right;\">\n",
       "      <th></th>\n",
       "      <th>_source.complaint_what_happened</th>\n",
       "      <th>complaint_what_happened_cleanning</th>\n",
       "      <th>complaint_what_happened_clean</th>\n",
       "    </tr>\n",
       "  </thead>\n",
       "  <tbody>\n",
       "    <tr>\n",
       "      <th>1</th>\n",
       "      <td>good morning my name is xxxx xxxx and i apprec...</td>\n",
       "      <td>good morning my name be   and I appreciate it ...</td>\n",
       "      <td>morning name stop bank cardmember service ask ...</td>\n",
       "    </tr>\n",
       "    <tr>\n",
       "      <th>2</th>\n",
       "      <td>i upgraded my xxxx xxxx card in  and was told ...</td>\n",
       "      <td>I upgrade my   card in   and be tell by the ag...</td>\n",
       "      <td>card agent upgrade date agent information orde...</td>\n",
       "    </tr>\n",
       "    <tr>\n",
       "      <th>10</th>\n",
       "      <td>chase card was reported on  however fraudulent...</td>\n",
       "      <td>chase card be report on   however fraudulent a...</td>\n",
       "      <td>card report application identity consent servi...</td>\n",
       "    </tr>\n",
       "    <tr>\n",
       "      <th>11</th>\n",
       "      <td>on  while trying to book a xxxx  xxxx  ticket ...</td>\n",
       "      <td>on   while try to book a       ticket I come a...</td>\n",
       "      <td>try book ticket offer ticket card information ...</td>\n",
       "    </tr>\n",
       "    <tr>\n",
       "      <th>14</th>\n",
       "      <td>my grand son give me check for  i deposit it i...</td>\n",
       "      <td>my grand son give I check for   I deposit it i...</td>\n",
       "      <td>son chase account fund bank account pay money ...</td>\n",
       "    </tr>\n",
       "    <tr>\n",
       "      <th>...</th>\n",
       "      <td>...</td>\n",
       "      <td>...</td>\n",
       "      <td>...</td>\n",
       "    </tr>\n",
       "    <tr>\n",
       "      <th>78303</th>\n",
       "      <td>after being a chase card customer for well ove...</td>\n",
       "      <td>after be a chase card customer for well over a...</td>\n",
       "      <td>card customer decade solicitation credit card ...</td>\n",
       "    </tr>\n",
       "    <tr>\n",
       "      <th>78309</th>\n",
       "      <td>on wednesday xxxxxxxx i called chas my xxxx xx...</td>\n",
       "      <td>on wednesday  I call cha my   visa credit card...</td>\n",
       "      <td>wednesday credit card provider claim purchase ...</td>\n",
       "    </tr>\n",
       "    <tr>\n",
       "      <th>78310</th>\n",
       "      <td>i am not familiar with xxxx pay and did not un...</td>\n",
       "      <td>I be not familiar with  pay and do not underst...</td>\n",
       "      <td>pay risk provide consumer bank app chase year ...</td>\n",
       "    </tr>\n",
       "    <tr>\n",
       "      <th>78311</th>\n",
       "      <td>i have had flawless credit for  yrs ive had ch...</td>\n",
       "      <td>I have have flawless credit for   yrs I ve hav...</td>\n",
       "      <td>credit yrs credit card chase freedom problem b...</td>\n",
       "    </tr>\n",
       "    <tr>\n",
       "      <th>78312</th>\n",
       "      <td>roughly  years ago i closed out my accounts wi...</td>\n",
       "      <td>roughly   year ago I close out my account with...</td>\n",
       "      <td>year account jp bank order line credit account...</td>\n",
       "    </tr>\n",
       "  </tbody>\n",
       "</table>\n",
       "<p>21072 rows × 3 columns</p>\n",
       "</div>"
      ],
      "text/plain": [
       "                         _source.complaint_what_happened  \\\n",
       "1      good morning my name is xxxx xxxx and i apprec...   \n",
       "2      i upgraded my xxxx xxxx card in  and was told ...   \n",
       "10     chase card was reported on  however fraudulent...   \n",
       "11     on  while trying to book a xxxx  xxxx  ticket ...   \n",
       "14     my grand son give me check for  i deposit it i...   \n",
       "...                                                  ...   \n",
       "78303  after being a chase card customer for well ove...   \n",
       "78309  on wednesday xxxxxxxx i called chas my xxxx xx...   \n",
       "78310  i am not familiar with xxxx pay and did not un...   \n",
       "78311  i have had flawless credit for  yrs ive had ch...   \n",
       "78312  roughly  years ago i closed out my accounts wi...   \n",
       "\n",
       "                       complaint_what_happened_cleanning  \\\n",
       "1      good morning my name be   and I appreciate it ...   \n",
       "2      I upgrade my   card in   and be tell by the ag...   \n",
       "10     chase card be report on   however fraudulent a...   \n",
       "11     on   while try to book a       ticket I come a...   \n",
       "14     my grand son give I check for   I deposit it i...   \n",
       "...                                                  ...   \n",
       "78303  after be a chase card customer for well over a...   \n",
       "78309  on wednesday  I call cha my   visa credit card...   \n",
       "78310  I be not familiar with  pay and do not underst...   \n",
       "78311  I have have flawless credit for   yrs I ve hav...   \n",
       "78312  roughly   year ago I close out my account with...   \n",
       "\n",
       "                           complaint_what_happened_clean  \n",
       "1      morning name stop bank cardmember service ask ...  \n",
       "2      card agent upgrade date agent information orde...  \n",
       "10     card report application identity consent servi...  \n",
       "11     try book ticket offer ticket card information ...  \n",
       "14     son chase account fund bank account pay money ...  \n",
       "...                                                  ...  \n",
       "78303  card customer decade solicitation credit card ...  \n",
       "78309  wednesday credit card provider claim purchase ...  \n",
       "78310  pay risk provide consumer bank app chase year ...  \n",
       "78311  credit yrs credit card chase freedom problem b...  \n",
       "78312  year account jp bank order line credit account...  \n",
       "\n",
       "[21072 rows x 3 columns]"
      ]
     },
     "execution_count": 33,
     "metadata": {},
     "output_type": "execute_result"
    }
   ],
   "source": [
    "dff"
   ]
  },
  {
   "cell_type": "code",
   "execution_count": 34,
   "id": "4e779d44",
   "metadata": {},
   "outputs": [],
   "source": [
    "from sklearn.feature_extraction.text import TfidfVectorizer"
   ]
  },
  {
   "cell_type": "markdown",
   "id": "c1522b27",
   "metadata": {},
   "source": [
    "# Feature Extraction\n",
    "### Convert the raw text into a matrix of TF-IDF features."
   ]
  },
  {
   "cell_type": "code",
   "execution_count": 35,
   "id": "f227976c",
   "metadata": {},
   "outputs": [],
   "source": [
    "tfidf = TfidfVectorizer(min_df=2, max_df=0.95, stop_words='english')"
   ]
  },
  {
   "cell_type": "code",
   "execution_count": 36,
   "id": "d4cab136",
   "metadata": {},
   "outputs": [],
   "source": [
    "dtm = tfidf.fit_transform(dff['complaint_what_happened_clean'])"
   ]
  },
  {
   "cell_type": "code",
   "execution_count": 37,
   "id": "1be69863",
   "metadata": {},
   "outputs": [
    {
     "data": {
      "text/plain": [
       "<21072x7249 sparse matrix of type '<class 'numpy.float64'>'\n",
       "\twith 644222 stored elements in Compressed Sparse Row format>"
      ]
     },
     "execution_count": 37,
     "metadata": {},
     "output_type": "execute_result"
    }
   ],
   "source": [
    "dtm"
   ]
  },
  {
   "cell_type": "code",
   "execution_count": 38,
   "id": "8cdf935a",
   "metadata": {},
   "outputs": [],
   "source": [
    "from sklearn.decomposition import NMF"
   ]
  },
  {
   "cell_type": "markdown",
   "id": "cc3ec6e2",
   "metadata": {},
   "source": [
    "# Topic Modelling using NMF"
   ]
  },
  {
   "cell_type": "code",
   "execution_count": 39,
   "id": "708afa0b",
   "metadata": {},
   "outputs": [],
   "source": [
    "nmf = NMF(n_components=5, random_state=40)"
   ]
  },
  {
   "cell_type": "code",
   "execution_count": 40,
   "id": "b3aea877",
   "metadata": {},
   "outputs": [
    {
     "name": "stderr",
     "output_type": "stream",
     "text": [
      "C:\\Users\\swapnil_tonape\\Anaconda3\\lib\\site-packages\\sklearn\\decomposition\\_nmf.py:289: FutureWarning: The 'init' value, when 'init=None' and n_components is less than n_samples and n_features, will be changed from 'nndsvd' to 'nndsvda' in 1.1 (renaming of 0.26).\n",
      "  warnings.warn(\n",
      "C:\\Users\\swapnil_tonape\\Anaconda3\\lib\\site-packages\\sklearn\\utils\\deprecation.py:87: FutureWarning: Function get_feature_names is deprecated; get_feature_names is deprecated in 1.0 and will be removed in 1.2. Please use get_feature_names_out instead.\n",
      "  warnings.warn(msg, category=FutureWarning)\n"
     ]
    },
    {
     "data": {
      "text/plain": [
       "7249"
      ]
     },
     "execution_count": 40,
     "metadata": {},
     "output_type": "execute_result"
    }
   ],
   "source": [
    "nmf.fit(dtm)\n",
    "len(tfidf.get_feature_names())"
   ]
  },
  {
   "cell_type": "code",
   "execution_count": 41,
   "id": "fade7756",
   "metadata": {},
   "outputs": [],
   "source": [
    "H1 = nmf.components_"
   ]
  },
  {
   "cell_type": "markdown",
   "id": "7a72f96c",
   "metadata": {},
   "source": [
    "### Print the Top 15 words for each Category."
   ]
  },
  {
   "cell_type": "code",
   "execution_count": 42,
   "id": "26e10132",
   "metadata": {},
   "outputs": [
    {
     "data": {
      "text/html": [
       "<div>\n",
       "<style scoped>\n",
       "    .dataframe tbody tr th:only-of-type {\n",
       "        vertical-align: middle;\n",
       "    }\n",
       "\n",
       "    .dataframe tbody tr th {\n",
       "        vertical-align: top;\n",
       "    }\n",
       "\n",
       "    .dataframe thead th {\n",
       "        text-align: right;\n",
       "    }\n",
       "</style>\n",
       "<table border=\"1\" class=\"dataframe\">\n",
       "  <thead>\n",
       "    <tr style=\"text-align: right;\">\n",
       "      <th></th>\n",
       "      <th>Word 1</th>\n",
       "      <th>Word 2</th>\n",
       "      <th>Word 3</th>\n",
       "      <th>Word 4</th>\n",
       "      <th>Word 5</th>\n",
       "      <th>Word 6</th>\n",
       "      <th>Word 7</th>\n",
       "      <th>Word 8</th>\n",
       "      <th>Word 9</th>\n",
       "      <th>Word 10</th>\n",
       "      <th>Word 11</th>\n",
       "      <th>Word 12</th>\n",
       "      <th>Word 13</th>\n",
       "      <th>Word 14</th>\n",
       "      <th>Word 15</th>\n",
       "    </tr>\n",
       "  </thead>\n",
       "  <tbody>\n",
       "    <tr>\n",
       "      <th>Category 1</th>\n",
       "      <td>account</td>\n",
       "      <td>check</td>\n",
       "      <td>bank</td>\n",
       "      <td>money</td>\n",
       "      <td>fund</td>\n",
       "      <td>chase</td>\n",
       "      <td>deposit</td>\n",
       "      <td>branch</td>\n",
       "      <td>day</td>\n",
       "      <td>number</td>\n",
       "      <td>business</td>\n",
       "      <td>transaction</td>\n",
       "      <td>claim</td>\n",
       "      <td>transfer</td>\n",
       "      <td>customer</td>\n",
       "    </tr>\n",
       "    <tr>\n",
       "      <th>Category 2</th>\n",
       "      <td>credit</td>\n",
       "      <td>card</td>\n",
       "      <td>report</td>\n",
       "      <td>inquiry</td>\n",
       "      <td>chase</td>\n",
       "      <td>account</td>\n",
       "      <td>score</td>\n",
       "      <td>company</td>\n",
       "      <td>limit</td>\n",
       "      <td>information</td>\n",
       "      <td>debt</td>\n",
       "      <td>application</td>\n",
       "      <td>letter</td>\n",
       "      <td>year</td>\n",
       "      <td>balance</td>\n",
       "    </tr>\n",
       "    <tr>\n",
       "      <th>Category 3</th>\n",
       "      <td>payment</td>\n",
       "      <td>balance</td>\n",
       "      <td>month</td>\n",
       "      <td>fee</td>\n",
       "      <td>statement</td>\n",
       "      <td>day</td>\n",
       "      <td>time</td>\n",
       "      <td>auto</td>\n",
       "      <td>date</td>\n",
       "      <td>pay</td>\n",
       "      <td>credit</td>\n",
       "      <td>account</td>\n",
       "      <td>chase</td>\n",
       "      <td>year</td>\n",
       "      <td>mortgage</td>\n",
       "    </tr>\n",
       "    <tr>\n",
       "      <th>Category 4</th>\n",
       "      <td>charge</td>\n",
       "      <td>card</td>\n",
       "      <td>fee</td>\n",
       "      <td>transaction</td>\n",
       "      <td>dispute</td>\n",
       "      <td>chase</td>\n",
       "      <td>merchant</td>\n",
       "      <td>fraud</td>\n",
       "      <td>claim</td>\n",
       "      <td>purchase</td>\n",
       "      <td>service</td>\n",
       "      <td>time</td>\n",
       "      <td>refund</td>\n",
       "      <td>statement</td>\n",
       "      <td>company</td>\n",
       "    </tr>\n",
       "    <tr>\n",
       "      <th>Category 5</th>\n",
       "      <td>loan</td>\n",
       "      <td>mortgage</td>\n",
       "      <td>home</td>\n",
       "      <td>modification</td>\n",
       "      <td>chase</td>\n",
       "      <td>property</td>\n",
       "      <td>year</td>\n",
       "      <td>letter</td>\n",
       "      <td>rate</td>\n",
       "      <td>time</td>\n",
       "      <td>document</td>\n",
       "      <td>bank</td>\n",
       "      <td>house</td>\n",
       "      <td>foreclosure</td>\n",
       "      <td>sale</td>\n",
       "    </tr>\n",
       "  </tbody>\n",
       "</table>\n",
       "</div>"
      ],
      "text/plain": [
       "             Word 1    Word 2  Word 3        Word 4     Word 5    Word 6  \\\n",
       "Category 1  account     check    bank         money       fund     chase   \n",
       "Category 2   credit      card  report       inquiry      chase   account   \n",
       "Category 3  payment   balance   month           fee  statement       day   \n",
       "Category 4   charge      card     fee   transaction    dispute     chase   \n",
       "Category 5     loan  mortgage    home  modification      chase  property   \n",
       "\n",
       "              Word 7   Word 8 Word 9      Word 10   Word 11      Word 12  \\\n",
       "Category 1   deposit   branch    day       number  business  transaction   \n",
       "Category 2     score  company  limit  information      debt  application   \n",
       "Category 3      time     auto   date          pay    credit      account   \n",
       "Category 4  merchant    fraud  claim     purchase   service         time   \n",
       "Category 5      year   letter   rate         time  document         bank   \n",
       "\n",
       "           Word 13      Word 14   Word 15  \n",
       "Category 1   claim     transfer  customer  \n",
       "Category 2  letter         year   balance  \n",
       "Category 3   chase         year  mortgage  \n",
       "Category 4  refund    statement   company  \n",
       "Category 5   house  foreclosure      sale  "
      ]
     },
     "execution_count": 42,
     "metadata": {},
     "output_type": "execute_result"
    }
   ],
   "source": [
    "words = np.array(tfidf.get_feature_names())\n",
    "category_word = pd.DataFrame(np.zeros((5, 15)), index=[f'Category {i + 1}' for i in range(5)],\n",
    "                           columns=[f'Word {i + 1}' for i in range(15)]).astype(str)\n",
    "for i in range(5):\n",
    "    ix = H1[i].argsort()[::-1][:15]\n",
    "    category_word.iloc[i] = words[ix]\n",
    "\n",
    "category_word"
   ]
  },
  {
   "cell_type": "code",
   "execution_count": 43,
   "id": "4a9bf9b0",
   "metadata": {},
   "outputs": [],
   "source": [
    "category_result = nmf.transform(dtm)"
   ]
  },
  {
   "cell_type": "code",
   "execution_count": 44,
   "id": "cf3834a3",
   "metadata": {},
   "outputs": [],
   "source": [
    "dff['category'] = category_result.argmax(axis=1)"
   ]
  },
  {
   "cell_type": "code",
   "execution_count": 45,
   "id": "84d82062",
   "metadata": {},
   "outputs": [
    {
     "data": {
      "text/html": [
       "<div>\n",
       "<style scoped>\n",
       "    .dataframe tbody tr th:only-of-type {\n",
       "        vertical-align: middle;\n",
       "    }\n",
       "\n",
       "    .dataframe tbody tr th {\n",
       "        vertical-align: top;\n",
       "    }\n",
       "\n",
       "    .dataframe thead th {\n",
       "        text-align: right;\n",
       "    }\n",
       "</style>\n",
       "<table border=\"1\" class=\"dataframe\">\n",
       "  <thead>\n",
       "    <tr style=\"text-align: right;\">\n",
       "      <th></th>\n",
       "      <th>_source.complaint_what_happened</th>\n",
       "      <th>complaint_what_happened_cleanning</th>\n",
       "      <th>complaint_what_happened_clean</th>\n",
       "      <th>category</th>\n",
       "    </tr>\n",
       "  </thead>\n",
       "  <tbody>\n",
       "    <tr>\n",
       "      <th>1</th>\n",
       "      <td>good morning my name is xxxx xxxx and i apprec...</td>\n",
       "      <td>good morning my name be   and I appreciate it ...</td>\n",
       "      <td>morning name stop bank cardmember service ask ...</td>\n",
       "      <td>4</td>\n",
       "    </tr>\n",
       "    <tr>\n",
       "      <th>2</th>\n",
       "      <td>i upgraded my xxxx xxxx card in  and was told ...</td>\n",
       "      <td>I upgrade my   card in   and be tell by the ag...</td>\n",
       "      <td>card agent upgrade date agent information orde...</td>\n",
       "      <td>1</td>\n",
       "    </tr>\n",
       "    <tr>\n",
       "      <th>10</th>\n",
       "      <td>chase card was reported on  however fraudulent...</td>\n",
       "      <td>chase card be report on   however fraudulent a...</td>\n",
       "      <td>card report application identity consent servi...</td>\n",
       "      <td>1</td>\n",
       "    </tr>\n",
       "    <tr>\n",
       "      <th>11</th>\n",
       "      <td>on  while trying to book a xxxx  xxxx  ticket ...</td>\n",
       "      <td>on   while try to book a       ticket I come a...</td>\n",
       "      <td>try book ticket offer ticket card information ...</td>\n",
       "      <td>1</td>\n",
       "    </tr>\n",
       "    <tr>\n",
       "      <th>14</th>\n",
       "      <td>my grand son give me check for  i deposit it i...</td>\n",
       "      <td>my grand son give I check for   I deposit it i...</td>\n",
       "      <td>son chase account fund bank account pay money ...</td>\n",
       "      <td>0</td>\n",
       "    </tr>\n",
       "    <tr>\n",
       "      <th>...</th>\n",
       "      <td>...</td>\n",
       "      <td>...</td>\n",
       "      <td>...</td>\n",
       "      <td>...</td>\n",
       "    </tr>\n",
       "    <tr>\n",
       "      <th>78303</th>\n",
       "      <td>after being a chase card customer for well ove...</td>\n",
       "      <td>after be a chase card customer for well over a...</td>\n",
       "      <td>card customer decade solicitation credit card ...</td>\n",
       "      <td>1</td>\n",
       "    </tr>\n",
       "    <tr>\n",
       "      <th>78309</th>\n",
       "      <td>on wednesday xxxxxxxx i called chas my xxxx xx...</td>\n",
       "      <td>on wednesday  I call cha my   visa credit card...</td>\n",
       "      <td>wednesday credit card provider claim purchase ...</td>\n",
       "      <td>3</td>\n",
       "    </tr>\n",
       "    <tr>\n",
       "      <th>78310</th>\n",
       "      <td>i am not familiar with xxxx pay and did not un...</td>\n",
       "      <td>I be not familiar with  pay and do not underst...</td>\n",
       "      <td>pay risk provide consumer bank app chase year ...</td>\n",
       "      <td>3</td>\n",
       "    </tr>\n",
       "    <tr>\n",
       "      <th>78311</th>\n",
       "      <td>i have had flawless credit for  yrs ive had ch...</td>\n",
       "      <td>I have have flawless credit for   yrs I ve hav...</td>\n",
       "      <td>credit yrs credit card chase freedom problem b...</td>\n",
       "      <td>2</td>\n",
       "    </tr>\n",
       "    <tr>\n",
       "      <th>78312</th>\n",
       "      <td>roughly  years ago i closed out my accounts wi...</td>\n",
       "      <td>roughly   year ago I close out my account with...</td>\n",
       "      <td>year account jp bank order line credit account...</td>\n",
       "      <td>2</td>\n",
       "    </tr>\n",
       "  </tbody>\n",
       "</table>\n",
       "<p>21072 rows × 4 columns</p>\n",
       "</div>"
      ],
      "text/plain": [
       "                         _source.complaint_what_happened  \\\n",
       "1      good morning my name is xxxx xxxx and i apprec...   \n",
       "2      i upgraded my xxxx xxxx card in  and was told ...   \n",
       "10     chase card was reported on  however fraudulent...   \n",
       "11     on  while trying to book a xxxx  xxxx  ticket ...   \n",
       "14     my grand son give me check for  i deposit it i...   \n",
       "...                                                  ...   \n",
       "78303  after being a chase card customer for well ove...   \n",
       "78309  on wednesday xxxxxxxx i called chas my xxxx xx...   \n",
       "78310  i am not familiar with xxxx pay and did not un...   \n",
       "78311  i have had flawless credit for  yrs ive had ch...   \n",
       "78312  roughly  years ago i closed out my accounts wi...   \n",
       "\n",
       "                       complaint_what_happened_cleanning  \\\n",
       "1      good morning my name be   and I appreciate it ...   \n",
       "2      I upgrade my   card in   and be tell by the ag...   \n",
       "10     chase card be report on   however fraudulent a...   \n",
       "11     on   while try to book a       ticket I come a...   \n",
       "14     my grand son give I check for   I deposit it i...   \n",
       "...                                                  ...   \n",
       "78303  after be a chase card customer for well over a...   \n",
       "78309  on wednesday  I call cha my   visa credit card...   \n",
       "78310  I be not familiar with  pay and do not underst...   \n",
       "78311  I have have flawless credit for   yrs I ve hav...   \n",
       "78312  roughly   year ago I close out my account with...   \n",
       "\n",
       "                           complaint_what_happened_clean  category  \n",
       "1      morning name stop bank cardmember service ask ...         4  \n",
       "2      card agent upgrade date agent information orde...         1  \n",
       "10     card report application identity consent servi...         1  \n",
       "11     try book ticket offer ticket card information ...         1  \n",
       "14     son chase account fund bank account pay money ...         0  \n",
       "...                                                  ...       ...  \n",
       "78303  card customer decade solicitation credit card ...         1  \n",
       "78309  wednesday credit card provider claim purchase ...         3  \n",
       "78310  pay risk provide consumer bank app chase year ...         3  \n",
       "78311  credit yrs credit card chase freedom problem b...         2  \n",
       "78312  year account jp bank order line credit account...         2  \n",
       "\n",
       "[21072 rows x 4 columns]"
      ]
     },
     "execution_count": 45,
     "metadata": {},
     "output_type": "execute_result"
    }
   ],
   "source": [
    "dff"
   ]
  },
  {
   "cell_type": "markdown",
   "id": "bbc853ce",
   "metadata": {},
   "source": [
    "### Create the dictionary of Category names and Category numbers."
   ]
  },
  {
   "cell_type": "code",
   "execution_count": 46,
   "id": "c494ebec",
   "metadata": {},
   "outputs": [],
   "source": [
    "Category_names = { 0:\"Bank account services\", 1:\"Credit card / Prepaid card\", 2:\"Mortgages/loans\",\n",
    "               3:\"Theft/Dispute reporting\", 4:\"Others\" }\n",
    "dff['category_name'] = dff['category'].map(Category_names)"
   ]
  },
  {
   "cell_type": "code",
   "execution_count": 47,
   "id": "d5597906",
   "metadata": {},
   "outputs": [
    {
     "data": {
      "text/html": [
       "<div>\n",
       "<style scoped>\n",
       "    .dataframe tbody tr th:only-of-type {\n",
       "        vertical-align: middle;\n",
       "    }\n",
       "\n",
       "    .dataframe tbody tr th {\n",
       "        vertical-align: top;\n",
       "    }\n",
       "\n",
       "    .dataframe thead th {\n",
       "        text-align: right;\n",
       "    }\n",
       "</style>\n",
       "<table border=\"1\" class=\"dataframe\">\n",
       "  <thead>\n",
       "    <tr style=\"text-align: right;\">\n",
       "      <th></th>\n",
       "      <th>_source.complaint_what_happened</th>\n",
       "      <th>complaint_what_happened_cleanning</th>\n",
       "      <th>complaint_what_happened_clean</th>\n",
       "      <th>category</th>\n",
       "      <th>category_name</th>\n",
       "    </tr>\n",
       "  </thead>\n",
       "  <tbody>\n",
       "    <tr>\n",
       "      <th>1</th>\n",
       "      <td>good morning my name is xxxx xxxx and i apprec...</td>\n",
       "      <td>good morning my name be   and I appreciate it ...</td>\n",
       "      <td>morning name stop bank cardmember service ask ...</td>\n",
       "      <td>4</td>\n",
       "      <td>Others</td>\n",
       "    </tr>\n",
       "    <tr>\n",
       "      <th>2</th>\n",
       "      <td>i upgraded my xxxx xxxx card in  and was told ...</td>\n",
       "      <td>I upgrade my   card in   and be tell by the ag...</td>\n",
       "      <td>card agent upgrade date agent information orde...</td>\n",
       "      <td>1</td>\n",
       "      <td>Credit card / Prepaid card</td>\n",
       "    </tr>\n",
       "    <tr>\n",
       "      <th>10</th>\n",
       "      <td>chase card was reported on  however fraudulent...</td>\n",
       "      <td>chase card be report on   however fraudulent a...</td>\n",
       "      <td>card report application identity consent servi...</td>\n",
       "      <td>1</td>\n",
       "      <td>Credit card / Prepaid card</td>\n",
       "    </tr>\n",
       "    <tr>\n",
       "      <th>11</th>\n",
       "      <td>on  while trying to book a xxxx  xxxx  ticket ...</td>\n",
       "      <td>on   while try to book a       ticket I come a...</td>\n",
       "      <td>try book ticket offer ticket card information ...</td>\n",
       "      <td>1</td>\n",
       "      <td>Credit card / Prepaid card</td>\n",
       "    </tr>\n",
       "    <tr>\n",
       "      <th>14</th>\n",
       "      <td>my grand son give me check for  i deposit it i...</td>\n",
       "      <td>my grand son give I check for   I deposit it i...</td>\n",
       "      <td>son chase account fund bank account pay money ...</td>\n",
       "      <td>0</td>\n",
       "      <td>Bank account services</td>\n",
       "    </tr>\n",
       "    <tr>\n",
       "      <th>...</th>\n",
       "      <td>...</td>\n",
       "      <td>...</td>\n",
       "      <td>...</td>\n",
       "      <td>...</td>\n",
       "      <td>...</td>\n",
       "    </tr>\n",
       "    <tr>\n",
       "      <th>78303</th>\n",
       "      <td>after being a chase card customer for well ove...</td>\n",
       "      <td>after be a chase card customer for well over a...</td>\n",
       "      <td>card customer decade solicitation credit card ...</td>\n",
       "      <td>1</td>\n",
       "      <td>Credit card / Prepaid card</td>\n",
       "    </tr>\n",
       "    <tr>\n",
       "      <th>78309</th>\n",
       "      <td>on wednesday xxxxxxxx i called chas my xxxx xx...</td>\n",
       "      <td>on wednesday  I call cha my   visa credit card...</td>\n",
       "      <td>wednesday credit card provider claim purchase ...</td>\n",
       "      <td>3</td>\n",
       "      <td>Theft/Dispute reporting</td>\n",
       "    </tr>\n",
       "    <tr>\n",
       "      <th>78310</th>\n",
       "      <td>i am not familiar with xxxx pay and did not un...</td>\n",
       "      <td>I be not familiar with  pay and do not underst...</td>\n",
       "      <td>pay risk provide consumer bank app chase year ...</td>\n",
       "      <td>3</td>\n",
       "      <td>Theft/Dispute reporting</td>\n",
       "    </tr>\n",
       "    <tr>\n",
       "      <th>78311</th>\n",
       "      <td>i have had flawless credit for  yrs ive had ch...</td>\n",
       "      <td>I have have flawless credit for   yrs I ve hav...</td>\n",
       "      <td>credit yrs credit card chase freedom problem b...</td>\n",
       "      <td>2</td>\n",
       "      <td>Mortgages/loans</td>\n",
       "    </tr>\n",
       "    <tr>\n",
       "      <th>78312</th>\n",
       "      <td>roughly  years ago i closed out my accounts wi...</td>\n",
       "      <td>roughly   year ago I close out my account with...</td>\n",
       "      <td>year account jp bank order line credit account...</td>\n",
       "      <td>2</td>\n",
       "      <td>Mortgages/loans</td>\n",
       "    </tr>\n",
       "  </tbody>\n",
       "</table>\n",
       "<p>21072 rows × 5 columns</p>\n",
       "</div>"
      ],
      "text/plain": [
       "                         _source.complaint_what_happened  \\\n",
       "1      good morning my name is xxxx xxxx and i apprec...   \n",
       "2      i upgraded my xxxx xxxx card in  and was told ...   \n",
       "10     chase card was reported on  however fraudulent...   \n",
       "11     on  while trying to book a xxxx  xxxx  ticket ...   \n",
       "14     my grand son give me check for  i deposit it i...   \n",
       "...                                                  ...   \n",
       "78303  after being a chase card customer for well ove...   \n",
       "78309  on wednesday xxxxxxxx i called chas my xxxx xx...   \n",
       "78310  i am not familiar with xxxx pay and did not un...   \n",
       "78311  i have had flawless credit for  yrs ive had ch...   \n",
       "78312  roughly  years ago i closed out my accounts wi...   \n",
       "\n",
       "                       complaint_what_happened_cleanning  \\\n",
       "1      good morning my name be   and I appreciate it ...   \n",
       "2      I upgrade my   card in   and be tell by the ag...   \n",
       "10     chase card be report on   however fraudulent a...   \n",
       "11     on   while try to book a       ticket I come a...   \n",
       "14     my grand son give I check for   I deposit it i...   \n",
       "...                                                  ...   \n",
       "78303  after be a chase card customer for well over a...   \n",
       "78309  on wednesday  I call cha my   visa credit card...   \n",
       "78310  I be not familiar with  pay and do not underst...   \n",
       "78311  I have have flawless credit for   yrs I ve hav...   \n",
       "78312  roughly   year ago I close out my account with...   \n",
       "\n",
       "                           complaint_what_happened_clean  category  \\\n",
       "1      morning name stop bank cardmember service ask ...         4   \n",
       "2      card agent upgrade date agent information orde...         1   \n",
       "10     card report application identity consent servi...         1   \n",
       "11     try book ticket offer ticket card information ...         1   \n",
       "14     son chase account fund bank account pay money ...         0   \n",
       "...                                                  ...       ...   \n",
       "78303  card customer decade solicitation credit card ...         1   \n",
       "78309  wednesday credit card provider claim purchase ...         3   \n",
       "78310  pay risk provide consumer bank app chase year ...         3   \n",
       "78311  credit yrs credit card chase freedom problem b...         2   \n",
       "78312  year account jp bank order line credit account...         2   \n",
       "\n",
       "                    category_name  \n",
       "1                          Others  \n",
       "2      Credit card / Prepaid card  \n",
       "10     Credit card / Prepaid card  \n",
       "11     Credit card / Prepaid card  \n",
       "14          Bank account services  \n",
       "...                           ...  \n",
       "78303  Credit card / Prepaid card  \n",
       "78309     Theft/Dispute reporting  \n",
       "78310     Theft/Dispute reporting  \n",
       "78311             Mortgages/loans  \n",
       "78312             Mortgages/loans  \n",
       "\n",
       "[21072 rows x 5 columns]"
      ]
     },
     "execution_count": 47,
     "metadata": {},
     "output_type": "execute_result"
    }
   ],
   "source": [
    "dff"
   ]
  },
  {
   "cell_type": "code",
   "execution_count": 48,
   "id": "1ca00b34",
   "metadata": {},
   "outputs": [],
   "source": [
    "training_data = dff[['_source.complaint_what_happened', 'category']]"
   ]
  },
  {
   "cell_type": "code",
   "execution_count": 49,
   "id": "7f681862",
   "metadata": {},
   "outputs": [
    {
     "data": {
      "text/html": [
       "<div>\n",
       "<style scoped>\n",
       "    .dataframe tbody tr th:only-of-type {\n",
       "        vertical-align: middle;\n",
       "    }\n",
       "\n",
       "    .dataframe tbody tr th {\n",
       "        vertical-align: top;\n",
       "    }\n",
       "\n",
       "    .dataframe thead th {\n",
       "        text-align: right;\n",
       "    }\n",
       "</style>\n",
       "<table border=\"1\" class=\"dataframe\">\n",
       "  <thead>\n",
       "    <tr style=\"text-align: right;\">\n",
       "      <th></th>\n",
       "      <th>_source.complaint_what_happened</th>\n",
       "      <th>category</th>\n",
       "    </tr>\n",
       "  </thead>\n",
       "  <tbody>\n",
       "    <tr>\n",
       "      <th>1</th>\n",
       "      <td>good morning my name is xxxx xxxx and i apprec...</td>\n",
       "      <td>4</td>\n",
       "    </tr>\n",
       "    <tr>\n",
       "      <th>2</th>\n",
       "      <td>i upgraded my xxxx xxxx card in  and was told ...</td>\n",
       "      <td>1</td>\n",
       "    </tr>\n",
       "    <tr>\n",
       "      <th>10</th>\n",
       "      <td>chase card was reported on  however fraudulent...</td>\n",
       "      <td>1</td>\n",
       "    </tr>\n",
       "    <tr>\n",
       "      <th>11</th>\n",
       "      <td>on  while trying to book a xxxx  xxxx  ticket ...</td>\n",
       "      <td>1</td>\n",
       "    </tr>\n",
       "    <tr>\n",
       "      <th>14</th>\n",
       "      <td>my grand son give me check for  i deposit it i...</td>\n",
       "      <td>0</td>\n",
       "    </tr>\n",
       "    <tr>\n",
       "      <th>...</th>\n",
       "      <td>...</td>\n",
       "      <td>...</td>\n",
       "    </tr>\n",
       "    <tr>\n",
       "      <th>78303</th>\n",
       "      <td>after being a chase card customer for well ove...</td>\n",
       "      <td>1</td>\n",
       "    </tr>\n",
       "    <tr>\n",
       "      <th>78309</th>\n",
       "      <td>on wednesday xxxxxxxx i called chas my xxxx xx...</td>\n",
       "      <td>3</td>\n",
       "    </tr>\n",
       "    <tr>\n",
       "      <th>78310</th>\n",
       "      <td>i am not familiar with xxxx pay and did not un...</td>\n",
       "      <td>3</td>\n",
       "    </tr>\n",
       "    <tr>\n",
       "      <th>78311</th>\n",
       "      <td>i have had flawless credit for  yrs ive had ch...</td>\n",
       "      <td>2</td>\n",
       "    </tr>\n",
       "    <tr>\n",
       "      <th>78312</th>\n",
       "      <td>roughly  years ago i closed out my accounts wi...</td>\n",
       "      <td>2</td>\n",
       "    </tr>\n",
       "  </tbody>\n",
       "</table>\n",
       "<p>21072 rows × 2 columns</p>\n",
       "</div>"
      ],
      "text/plain": [
       "                         _source.complaint_what_happened  category\n",
       "1      good morning my name is xxxx xxxx and i apprec...         4\n",
       "2      i upgraded my xxxx xxxx card in  and was told ...         1\n",
       "10     chase card was reported on  however fraudulent...         1\n",
       "11     on  while trying to book a xxxx  xxxx  ticket ...         1\n",
       "14     my grand son give me check for  i deposit it i...         0\n",
       "...                                                  ...       ...\n",
       "78303  after being a chase card customer for well ove...         1\n",
       "78309  on wednesday xxxxxxxx i called chas my xxxx xx...         3\n",
       "78310  i am not familiar with xxxx pay and did not un...         3\n",
       "78311  i have had flawless credit for  yrs ive had ch...         2\n",
       "78312  roughly  years ago i closed out my accounts wi...         2\n",
       "\n",
       "[21072 rows x 2 columns]"
      ]
     },
     "execution_count": 49,
     "metadata": {},
     "output_type": "execute_result"
    }
   ],
   "source": [
    "training_data"
   ]
  },
  {
   "cell_type": "code",
   "execution_count": 50,
   "id": "c43bc14f",
   "metadata": {},
   "outputs": [],
   "source": [
    "from sklearn.feature_extraction.text import CountVectorizer,TfidfTransformer\n",
    "# Import pickle to save and load the model\n",
    "import pickle"
   ]
  },
  {
   "cell_type": "code",
   "execution_count": 51,
   "id": "e42b4d9b",
   "metadata": {},
   "outputs": [],
   "source": [
    "cvect = CountVectorizer()\n",
    "X_train_cnt = cvect.fit_transform(training_data['_source.complaint_what_happened'])\n",
    "\n",
    "pickle.dump(cvect.vocabulary_, open(\"count_vector.pk1\", \"wb\"))"
   ]
  },
  {
   "cell_type": "code",
   "execution_count": 52,
   "id": "486a9e4c",
   "metadata": {},
   "outputs": [],
   "source": [
    "tfidf_transformer = TfidfTransformer()\n",
    "X_train_tfidf = tfidf_transformer.fit_transform(X_train_cnt)\n",
    "\n",
    "pickle.dump(tfidf_transformer, open('tfidf.pk1', \"wb\"))"
   ]
  },
  {
   "cell_type": "markdown",
   "id": "6a02323d",
   "metadata": {},
   "source": [
    "# Model building using Supervised Learning."
   ]
  },
  {
   "cell_type": "code",
   "execution_count": 53,
   "id": "8efa6b52",
   "metadata": {},
   "outputs": [],
   "source": [
    "from sklearn.linear_model import LogisticRegression\n",
    "from sklearn.model_selection import train_test_split"
   ]
  },
  {
   "cell_type": "markdown",
   "id": "87698838",
   "metadata": {},
   "source": [
    "### Logistic Regression"
   ]
  },
  {
   "cell_type": "code",
   "execution_count": 54,
   "id": "14cf462a",
   "metadata": {},
   "outputs": [],
   "source": [
    "X_train, X_test, y_train, y_test = train_test_split(X_train_tfidf, training_data['category'], test_size=0.25, random_state=42)"
   ]
  },
  {
   "cell_type": "code",
   "execution_count": 55,
   "id": "0b21e43d",
   "metadata": {},
   "outputs": [],
   "source": [
    "log = LogisticRegression(random_state=111, solver='liblinear').fit(X_train, y_train)"
   ]
  },
  {
   "cell_type": "code",
   "execution_count": 56,
   "id": "7f305665",
   "metadata": {},
   "outputs": [
    {
     "data": {
      "text/plain": [
       "0.9157175398633257"
      ]
     },
     "execution_count": 56,
     "metadata": {},
     "output_type": "execute_result"
    }
   ],
   "source": [
    "log.score(X_test, y_test)"
   ]
  },
  {
   "cell_type": "code",
   "execution_count": 57,
   "id": "d3ceceaf",
   "metadata": {},
   "outputs": [],
   "source": [
    "from sklearn.tree import DecisionTreeClassifier"
   ]
  },
  {
   "cell_type": "markdown",
   "id": "6e9850b2",
   "metadata": {},
   "source": [
    "### Decision Tree Classifier"
   ]
  },
  {
   "cell_type": "code",
   "execution_count": 58,
   "id": "53f39884",
   "metadata": {},
   "outputs": [],
   "source": [
    "X_train, X_test, y_train, y_test = train_test_split(X_train_tfidf, training_data['category'], test_size=0.25, random_state=42)"
   ]
  },
  {
   "cell_type": "code",
   "execution_count": 59,
   "id": "ad5d1d99",
   "metadata": {},
   "outputs": [],
   "source": [
    "dtc = DecisionTreeClassifier(random_state=42).fit(X_train, y_train)"
   ]
  },
  {
   "cell_type": "code",
   "execution_count": 60,
   "id": "bc8fc957",
   "metadata": {},
   "outputs": [
    {
     "data": {
      "text/plain": [
       "0.784738041002278"
      ]
     },
     "execution_count": 60,
     "metadata": {},
     "output_type": "execute_result"
    }
   ],
   "source": [
    "dtc.score(X_test, y_test)"
   ]
  },
  {
   "cell_type": "code",
   "execution_count": 61,
   "id": "a57ca8d0",
   "metadata": {},
   "outputs": [],
   "source": [
    "from sklearn.ensemble import RandomForestClassifier"
   ]
  },
  {
   "cell_type": "markdown",
   "id": "c66092c9",
   "metadata": {},
   "source": [
    "### Random Forest Classifier"
   ]
  },
  {
   "cell_type": "code",
   "execution_count": 62,
   "id": "0f611240",
   "metadata": {},
   "outputs": [],
   "source": [
    "X_train, X_test, y_train, y_test = train_test_split(X_train_tfidf, training_data['category'], test_size=0.25, random_state=42)"
   ]
  },
  {
   "cell_type": "code",
   "execution_count": 63,
   "id": "0fb3d8c9",
   "metadata": {},
   "outputs": [],
   "source": [
    "rfc = RandomForestClassifier(random_state=42).fit(X_train, y_train)"
   ]
  },
  {
   "cell_type": "code",
   "execution_count": 64,
   "id": "7d5264a5",
   "metadata": {},
   "outputs": [
    {
     "data": {
      "text/plain": [
       "0.814540622627183"
      ]
     },
     "execution_count": 64,
     "metadata": {},
     "output_type": "execute_result"
    }
   ],
   "source": [
    "rfc.score(X_test, y_test)"
   ]
  },
  {
   "cell_type": "markdown",
   "id": "4960b00f",
   "metadata": {},
   "source": [
    "# Model Evaluation"
   ]
  },
  {
   "cell_type": "markdown",
   "id": "98f8861e",
   "metadata": {},
   "source": [
    "### Save Logistic Regression Model and Evaluating it as it has more accuracy than other models"
   ]
  },
  {
   "cell_type": "code",
   "execution_count": 65,
   "id": "5a412758",
   "metadata": {},
   "outputs": [],
   "source": [
    "pickle.dump(log, open(\"logisticreg.pk1\", \"wb\"))"
   ]
  },
  {
   "cell_type": "code",
   "execution_count": 66,
   "id": "233064ca",
   "metadata": {},
   "outputs": [],
   "source": [
    "log_model = pickle.load(open(\"logisticreg.pk1\", \"rb\"))"
   ]
  },
  {
   "cell_type": "code",
   "execution_count": 67,
   "id": "7163727e",
   "metadata": {},
   "outputs": [],
   "source": [
    "y_pred = log_model.predict(X_test)"
   ]
  },
  {
   "cell_type": "code",
   "execution_count": 68,
   "id": "8b2920a8",
   "metadata": {},
   "outputs": [],
   "source": [
    "from sklearn.metrics import confusion_matrix, classification_report, precision_score, recall_score, f1_score"
   ]
  },
  {
   "cell_type": "markdown",
   "id": "78af3581",
   "metadata": {},
   "source": [
    "### Confusion Matrix"
   ]
  },
  {
   "cell_type": "code",
   "execution_count": 69,
   "id": "87c5854f",
   "metadata": {},
   "outputs": [
    {
     "name": "stdout",
     "output_type": "stream",
     "text": [
      "[[1247   19    3   26   12]\n",
      " [  22 1210    4   52    9]\n",
      " [  21   21  462   29   26]\n",
      " [  64   46    6 1056   19]\n",
      " [  22   24    7   12  849]]\n"
     ]
    }
   ],
   "source": [
    "print(confusion_matrix(y_test, y_pred))"
   ]
  },
  {
   "cell_type": "code",
   "execution_count": 70,
   "id": "bff32d50",
   "metadata": {},
   "outputs": [],
   "source": [
    "import matplotlib.pyplot as plt"
   ]
  },
  {
   "cell_type": "markdown",
   "id": "f356838d",
   "metadata": {},
   "source": [
    "### Visual representation of Confusion Matrix"
   ]
  },
  {
   "cell_type": "code",
   "execution_count": 71,
   "id": "296fb499",
   "metadata": {},
   "outputs": [
    {
     "data": {
      "image/png": "[encoded data removed]",
      "text/plain": [
       "<Figure size 540x540 with 1 Axes>"
      ]
     },
     "metadata": {
      "needs_background": "light"
     },
     "output_type": "display_data"
    }
   ],
   "source": [
    "cm= confusion_matrix(y_test, y_pred)\n",
    "fig, ax = plt.subplots(figsize=(7.5, 7.5))\n",
    "ax.matshow(cm, cmap=plt.cm.Blues, alpha=0.3)\n",
    "for i in range(cm.shape[0]):\n",
    "    for j in range(cm.shape[1]):\n",
    "        ax.text(x=j, y=i,s=cm[i, j], va='center', ha='center', size='xx-large')\n",
    "\n",
    "plt.xlabel('Predictions', fontsize=18)\n",
    "plt.ylabel('Actuals', fontsize=18)\n",
    "plt.title('Confusion Matrix', fontsize=18)\n",
    "plt.show()"
   ]
  },
  {
   "cell_type": "markdown",
   "id": "ef4fffa6",
   "metadata": {},
   "source": [
    "### Accuracy of LogisticRegression - 92.03%"
   ]
  },
  {
   "cell_type": "markdown",
   "id": "b71791f5",
   "metadata": {},
   "source": [
    "### Classification Report"
   ]
  },
  {
   "cell_type": "code",
   "execution_count": 72,
   "id": "91cd1fc6",
   "metadata": {},
   "outputs": [],
   "source": [
    "category_names = [\"Bank account services\", \"Credit card / Prepaid card\", \"Mortgages/loans\", \n",
    "                     \"Theft/Dispute reporting\", \"Others\"]"
   ]
  },
  {
   "cell_type": "code",
   "execution_count": 73,
   "id": "c4db4a94",
   "metadata": {},
   "outputs": [
    {
     "name": "stdout",
     "output_type": "stream",
     "text": [
      "                            precision    recall  f1-score   support\n",
      "\n",
      "     Bank account services       0.91      0.95      0.93      1307\n",
      "Credit card / Prepaid card       0.92      0.93      0.92      1297\n",
      "           Mortgages/loans       0.96      0.83      0.89       559\n",
      "   Theft/Dispute reporting       0.90      0.89      0.89      1191\n",
      "                    Others       0.93      0.93      0.93       914\n",
      "\n",
      "                  accuracy                           0.92      5268\n",
      "                 macro avg       0.92      0.91      0.91      5268\n",
      "              weighted avg       0.92      0.92      0.92      5268\n",
      "\n"
     ]
    }
   ],
   "source": [
    "print(classification_report(y_test, y_pred, target_names = category_names))"
   ]
  }
 ],
 "metadata": {
  "kernelspec": {
   "display_name": "Python 3 (ipykernel)",
   "language": "python",
   "name": "python3"
  },
  "language_info": {
   "codemirror_mode": {
    "name": "ipython",
    "version": 3
   },
   "file_extension": ".py",
   "mimetype": "text/x-python",
   "name": "python",
   "nbconvert_exporter": "python",
   "pygments_lexer": "ipython3",
   "version": "3.9.12"
  }
 },
 "nbformat": 4,
 "nbformat_minor": 5
}
